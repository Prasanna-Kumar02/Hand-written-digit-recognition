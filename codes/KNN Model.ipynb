{
 "cells": [
  {
   "cell_type": "markdown",
   "metadata": {},
   "source": [
    "### KNN Model for 40x40 pixel Dataset"
   ]
  },
  {
   "cell_type": "code",
   "execution_count": 102,
   "metadata": {
    "collapsed": true
   },
   "outputs": [],
   "source": [
    "import numpy as np #To convert into numpy arrays\n",
    "from sklearn.neighbors import KNeighborsClassifier #to build KNN\n",
    "from sklearn.metrics import accuracy_score,classification_report #To calculate accuracy,precision and recall\n",
    "from pandas_ml import ConfusionMatrix #To generate Confusion matrix\n",
    "import os #To change root directory\n",
    "import pandas as pd #To import the dataset\n",
    "from sklearn.model_selection import cross_val_score #to calculate error"
   ]
  },
  {
   "cell_type": "code",
   "execution_count": 103,
   "metadata": {
    "collapsed": true
   },
   "outputs": [],
   "source": [
    "#Importing the dataset\n",
    "os.chdir(\"C:/Users/Sanjeev Varma/Desktop/Capstone/Signature Recognition/Data\")\n",
    "label_train = pd.read_csv('train_numbers.csv')\n",
    "y_train = label_train['Label']\n",
    "label_test = pd.read_csv('test_numbers.csv')\n",
    "y_test = label_test['Label']"
   ]
  },
  {
   "cell_type": "code",
   "execution_count": 23,
   "metadata": {
    "collapsed": true
   },
   "outputs": [],
   "source": [
    "X_train = label_train.iloc[:,1:1601]\n",
    "X_test = label_test.iloc[:,1:1601]"
   ]
  },
  {
   "cell_type": "code",
   "execution_count": 24,
   "metadata": {},
   "outputs": [
    {
     "name": "stdout",
     "output_type": "stream",
     "text": [
      "\n",
      "Making Predictions on Validation Data...\n",
      "\n",
      "Calculating Accuracy of Predictions...\n",
      "Accuracy score: 0.91\n"
     ]
    },
    {
     "data": {
      "text/plain": [
       "Predicted  Eight  Five  Four  Nine  One  Seven  Six  Three  Two  Zero  __all__\n",
       "Actual                                                                        \n",
       "Eight        420    17     0    17   14      4    4     33    0     4      513\n",
       "Five           2   449     2     5   20      0    8     21    0     6      513\n",
       "Four           3     0   458    23   17      0    2      0    2     8      513\n",
       "Nine           1     4    23   439   16     25    0      1    2     2      513\n",
       "One            0     0     1     1  511      0    0      0    0     0      513\n",
       "Seven          1     0     1     6   22    482    0      0    1     0      513\n",
       "Six            0     7     1     0    7      0  490      0    0     8      513\n",
       "Three         10     9     1     0   14      2    0    473    3     1      513\n",
       "Two           10     1     0     2   10     21    5     12  441    11      513\n",
       "Zero           0     2     0     0    5      0    3      3    0   500      513\n",
       "__all__      447   489   487   493  636    534  512    543  449   540     5130"
      ]
     },
     "execution_count": 24,
     "metadata": {},
     "output_type": "execute_result"
    }
   ],
   "source": [
    "#Creating KNN Classifier\n",
    "clf = KNeighborsClassifier(n_neighbors=5,algorithm='auto',n_jobs=10)\n",
    "clf.fit(X_train,y_train)\n",
    "\n",
    "print('\\nMaking Predictions on Validation Data...')\n",
    "y_pred = clf.predict(X_test)\n",
    "\n",
    "print('\\nCalculating Accuracy of Predictions...')\n",
    "accuracy = accuracy_score(y_test, y_pred)\n",
    "print(\"Accuracy score: %0.2f\" % accuracy)\n",
    "\n",
    "\n",
    "ConfusionMatrix(y_test, y_pred)\n"
   ]
  },
  {
   "cell_type": "code",
   "execution_count": 61,
   "metadata": {},
   "outputs": [
    {
     "name": "stdout",
     "output_type": "stream",
     "text": [
      "             precision    recall  f1-score   support\n",
      "\n",
      "      Eight       0.93      0.82      0.88       513\n",
      "       Five       0.92      0.89      0.91       513\n",
      "       Four       0.91      0.91      0.91       513\n",
      "       Nine       0.89      0.84      0.86       513\n",
      "        One       0.83      0.99      0.91       513\n",
      "      Seven       0.90      0.94      0.92       513\n",
      "        Six       0.96      0.96      0.96       513\n",
      "      Three       0.87      0.90      0.89       513\n",
      "        Two       0.98      0.86      0.92       513\n",
      "       Zero       0.92      0.97      0.95       513\n",
      "\n",
      "avg / total       0.91      0.91      0.91      5130\n",
      "\n"
     ]
    }
   ],
   "source": [
    "#Calculate Precision,Recall\n",
    "report = classification_report(y_test,y_pred)\n",
    "print(report)"
   ]
  },
  {
   "cell_type": "markdown",
   "metadata": {},
   "source": [
    "#### Calculating optimum k-value"
   ]
  },
  {
   "cell_type": "code",
   "execution_count": 25,
   "metadata": {},
   "outputs": [
    {
     "name": "stdout",
     "output_type": "stream",
     "text": [
      "The optimal number of neighbors is 4\n"
     ]
    }
   ],
   "source": [
    "#Finding the best K-Value\n",
    "klist = list(range(2,10))\n",
    "cv_scores = []\n",
    "for k in klist:\n",
    "    knn = KNeighborsClassifier(n_neighbors=k,algorithm='auto',n_jobs=10)\n",
    "    scores = cross_val_score(knn, X_train, y_train, cv=10, scoring='accuracy')\n",
    "    cv_scores.append(scores.mean())\n",
    "MSE = [1 - x for x in cv_scores]\n",
    "\n",
    "# determining best k\n",
    "optimal_k = klist[MSE.index(min(MSE))]\n",
    "print(\"The optimal number of neighbors is %d\" % optimal_k)"
   ]
  },
  {
   "cell_type": "code",
   "execution_count": 73,
   "metadata": {},
   "outputs": [
    {
     "name": "stdout",
     "output_type": "stream",
     "text": [
      "\n",
      "Making Predictions on Validation Data...\n",
      "\n",
      "Calculating Accuracy of Predictions...\n",
      "Accuracy score: 0.91\n",
      "\n",
      "Creating Confusion Matrix...\n"
     ]
    },
    {
     "data": {
      "text/plain": [
       "Predicted  Eight  Five  Four  Nine  One  Seven  Six  Three  Two  Zero  __all__\n",
       "Actual                                                                        \n",
       "Eight        423    14     1    14   13      3    5     32    3     5      513\n",
       "Five           4   458     2     5   15      1    5     16    0     7      513\n",
       "Four           3     0   467    19   12      2    3      0    2     5      513\n",
       "Nine           1     4    33   430   12     27    0      2    2     2      513\n",
       "One            0     0     2     1  510      0    0      0    0     0      513\n",
       "Seven          1     0     2     7   19    481    1      0    1     1      513\n",
       "Six            1     7     1     0    6      0  491      0    0     7      513\n",
       "Three         11    12     2     4   13      4    0    463    1     3      513\n",
       "Two            9     1     1     2    8     19    5     15  442    11      513\n",
       "Zero           0     2     0     0    5      0    3      3    0   500      513\n",
       "__all__      453   498   511   482  613    537  513    531  451   541     5130"
      ]
     },
     "execution_count": 73,
     "metadata": {},
     "output_type": "execute_result"
    }
   ],
   "source": [
    "clf = KNeighborsClassifier(n_neighbors=optimal_k,algorithm='auto',n_jobs=10)\n",
    "clf.fit(X_train,y_train)\n",
    "print('\\nMaking Predictions on Validation Data...')\n",
    "y_pred = clf.predict(X_test)\n",
    "\n",
    "print('\\nCalculating Accuracy of Predictions...')\n",
    "accuracy = accuracy_score(y_test, y_pred)\n",
    "print(\"Accuracy score: %0.2f\" % accuracy)\n",
    "\n",
    "print('\\nCreating Confusion Matrix...')\n",
    "ConfusionMatrix(y_test, y_pred)\n"
   ]
  },
  {
   "cell_type": "code",
   "execution_count": 74,
   "metadata": {},
   "outputs": [
    {
     "name": "stdout",
     "output_type": "stream",
     "text": [
      "             precision    recall  f1-score   support\n",
      "\n",
      "      Eight       0.93      0.82      0.88       513\n",
      "       Five       0.92      0.89      0.91       513\n",
      "       Four       0.91      0.91      0.91       513\n",
      "       Nine       0.89      0.84      0.86       513\n",
      "        One       0.83      0.99      0.91       513\n",
      "      Seven       0.90      0.94      0.92       513\n",
      "        Six       0.96      0.96      0.96       513\n",
      "      Three       0.87      0.90      0.89       513\n",
      "        Two       0.98      0.86      0.92       513\n",
      "       Zero       0.92      0.97      0.95       513\n",
      "\n",
      "avg / total       0.91      0.91      0.91      5130\n",
      "\n"
     ]
    }
   ],
   "source": [
    "report = classification_report(y_test,y_pred)\n",
    "print(report)"
   ]
  },
  {
   "cell_type": "markdown",
   "metadata": {},
   "source": [
    "### Implementing PCA"
   ]
  },
  {
   "cell_type": "code",
   "execution_count": 27,
   "metadata": {
    "collapsed": true
   },
   "outputs": [],
   "source": [
    "from sklearn.decomposition import PCA"
   ]
  },
  {
   "cell_type": "code",
   "execution_count": 28,
   "metadata": {},
   "outputs": [
    {
     "name": "stdout",
     "output_type": "stream",
     "text": [
      "260\n"
     ]
    }
   ],
   "source": [
    "import numpy as np\n",
    "from sklearn.decomposition import PCA\n",
    "\n",
    "train = np.array(X_train)\n",
    "n_components = 1600\n",
    "pca = PCA(n_components=n_components,svd_solver='randomized').fit(train)\n",
    "s = pca.explained_variance_ratio_\n",
    "sum=0.0\n",
    "comp=0\n",
    "\n",
    "for _ in s:\n",
    "    sum += _\n",
    "    comp += 1\n",
    "    if(sum>=0.99):\n",
    "        break\n",
    "print(comp)"
   ]
  },
  {
   "cell_type": "code",
   "execution_count": 75,
   "metadata": {},
   "outputs": [
    {
     "name": "stdout",
     "output_type": "stream",
     "text": [
      "\n",
      "Making Predictions on Validation Data...\n",
      "\n",
      "Calculating Accuracy of Predictions...\n",
      "Accuracy score: 0.91\n",
      "\n",
      "Creating Confusion Matrix...\n"
     ]
    },
    {
     "data": {
      "text/plain": [
       "Predicted  Eight  Five  Four  Nine  One  Seven  Six  Three  Two  Zero  __all__\n",
       "Actual                                                                        \n",
       "Eight        442    17     5    15    6      2    5     18    0     3      513\n",
       "Five           9   467     3     2   11      0    5     14    0     2      513\n",
       "Four           4     0   474    15   10      1    4      0    2     3      513\n",
       "Nine           2     1    47   434   10     18    0      0    0     1      513\n",
       "One            0     0     0     4  509      0    0      0    0     0      513\n",
       "Seven          0     0     4    12   16    477    0      3    1     0      513\n",
       "Six            1     9     2     0    6      0  491      0    0     4      513\n",
       "Three         10    26     1     7    3      8    2    453    1     2      513\n",
       "Two           18     2     1     1    5     27    5     22  428     4      513\n",
       "Zero           0     1     0     1    3      0    5      5    2   496      513\n",
       "__all__      486   523   537   491  579    533  517    515  434   515     5130"
      ]
     },
     "execution_count": 75,
     "metadata": {},
     "output_type": "execute_result"
    }
   ],
   "source": [
    "train = np.array(X_train)\n",
    "test = np.array(X_test)\n",
    "n_components = comp\n",
    "\n",
    "#fitting pca\n",
    "pca = PCA(n_components=n_components,svd_solver='randomized').fit(train)\n",
    "\n",
    "xtrain = pca.transform(train)\n",
    "xtest = pca.transform(test)\n",
    "\n",
    "clf = KNeighborsClassifier(n_neighbors=2,algorithm='auto',n_jobs=10)\n",
    "clf.fit(xtrain,y_train)\n",
    "print('\\nMaking Predictions on Validation Data...')\n",
    "y_pred = clf.predict(xtest)\n",
    "\n",
    "print('\\nCalculating Accuracy of Predictions...')\n",
    "accuracy = accuracy_score(y_test, y_pred)\n",
    "print(\"Accuracy score: %0.2f\" % accuracy)\n",
    "\n",
    "print('\\nCreating Confusion Matrix...')\n",
    "ConfusionMatrix(y_test, y_pred)\n"
   ]
  },
  {
   "cell_type": "code",
   "execution_count": 76,
   "metadata": {},
   "outputs": [
    {
     "name": "stdout",
     "output_type": "stream",
     "text": [
      "             precision    recall  f1-score   support\n",
      "\n",
      "      Eight       0.91      0.86      0.88       513\n",
      "       Five       0.89      0.91      0.90       513\n",
      "       Four       0.88      0.92      0.90       513\n",
      "       Nine       0.88      0.85      0.86       513\n",
      "        One       0.88      0.99      0.93       513\n",
      "      Seven       0.89      0.93      0.91       513\n",
      "        Six       0.95      0.96      0.95       513\n",
      "      Three       0.88      0.88      0.88       513\n",
      "        Two       0.99      0.83      0.90       513\n",
      "       Zero       0.96      0.97      0.96       513\n",
      "\n",
      "avg / total       0.91      0.91      0.91      5130\n",
      "\n"
     ]
    }
   ],
   "source": [
    "report = classification_report(y_test,y_pred)\n",
    "print(report)"
   ]
  },
  {
   "cell_type": "code",
   "execution_count": 31,
   "metadata": {},
   "outputs": [
    {
     "name": "stdout",
     "output_type": "stream",
     "text": [
      "The optimal number of neighbors is 3\n"
     ]
    }
   ],
   "source": [
    "klist = list(range(2,10))\n",
    "cv_scores = []\n",
    "for k in klist:\n",
    "    knn = KNeighborsClassifier(n_neighbors=k,algorithm='auto',n_jobs=10)\n",
    "    scores = cross_val_score(knn, xtrain, y_train, cv=10, scoring='accuracy')\n",
    "    cv_scores.append(scores.mean())\n",
    "MSE = [1 - x for x in cv_scores]\n",
    "\n",
    "# determining best k\n",
    "optimal_k = klist[MSE.index(min(MSE))]\n",
    "print(\"The optimal number of neighbors is %d\" % optimal_k)"
   ]
  },
  {
   "cell_type": "code",
   "execution_count": 115,
   "metadata": {},
   "outputs": [
    {
     "name": "stdout",
     "output_type": "stream",
     "text": [
      "\n",
      "Making Predictions on Validation Data...\n",
      "\n",
      "Calculating Accuracy of Predictions...\n",
      "Accuracy score: 0.91\n",
      "\n",
      "Creating Confusion Matrix...\n"
     ]
    },
    {
     "data": {
      "text/plain": [
       "Predicted  Eight  Five  Four  Nine  One  Seven  Six  Three  Two  Zero  __all__\n",
       "Actual                                                                        \n",
       "Eight        423    14     1    14   12      3    4     32    3     7      513\n",
       "Five           4   458     1     6   17      0    7     14    0     6      513\n",
       "Four           3     0   468    18   11      2    3      1    2     5      513\n",
       "Nine           1     4    33   434   10     24    0      2    2     3      513\n",
       "One            0     0     1     2  510      0    0      0    0     0      513\n",
       "Seven          1     0     1     9   18    480    1      0    1     2      513\n",
       "Six            2     7     0     0    5      0  491      0    0     8      513\n",
       "Three         11    13     0     3   11      4    0    468    1     2      513\n",
       "Two           11     3     3     1    8     19    5     15  439     9      513\n",
       "Zero           0     0     0     0    5      0    4      3    0   501      513\n",
       "__all__      456   499   508   487  607    532  515    535  448   543     5130"
      ]
     },
     "execution_count": 115,
     "metadata": {},
     "output_type": "execute_result"
    }
   ],
   "source": [
    "import numpy as np\n",
    "from sklearn.decomposition import PCA\n",
    "\n",
    "os.chdir(\"C:/Users/Sanjeev Varma/Desktop/Capstone/Signature Recognition/Data\")\n",
    "label_train = pd.read_csv('train_numbers.csv')\n",
    "y_train = label_train['Label']\n",
    "label_test = pd.read_csv('test_numbers.csv')\n",
    "y_test = label_test['Label']\n",
    "\n",
    "X_train = label_train.iloc[:,1:1601]\n",
    "X_test = label_test.iloc[:,1:1601]\n",
    "\n",
    "train = np.array(X_train)\n",
    "test = np.array(X_test)\n",
    "#Number of components of PCA\n",
    "n_components = 1600\n",
    "pca = PCA(n_components=n_components,svd_solver='randomized').fit(train)\n",
    "s = pca.explained_variance_ratio_\n",
    "sum=0.0\n",
    "comp=0\n",
    "#No.of Components required to explain 99% variance\n",
    "for _ in s:\n",
    "    sum += _\n",
    "    comp += 1\n",
    "    if(sum>=0.99):\n",
    "        break\n",
    "n_components = comp\n",
    "#fitting pca\n",
    "pca = PCA(n_components=n_components,svd_solver='randomized').fit(train)\n",
    "\n",
    "xtrain = pca.transform(train)\n",
    "xtest = pca.transform(test)\n",
    "\n",
    "clf = KNeighborsClassifier(n_neighbors=optimal_k,algorithm='auto',n_jobs=10)\n",
    "clf.fit(xtrain,y_train)\n",
    "print('\\nMaking Predictions on Validation Data...')\n",
    "y_pred = clf.predict(xtest)\n",
    "\n",
    "print('\\nCalculating Accuracy of Predictions...')\n",
    "accuracy = accuracy_score(y_test, y_pred)\n",
    "print(\"Accuracy score: %0.2f\" % accuracy)\n",
    "\n",
    "print('\\nCreating Confusion Matrix...')\n",
    "ConfusionMatrix(y_test, y_pred)\n"
   ]
  },
  {
   "cell_type": "code",
   "execution_count": 116,
   "metadata": {},
   "outputs": [
    {
     "name": "stdout",
     "output_type": "stream",
     "text": [
      "             precision    recall  f1-score   support\n",
      "\n",
      "      Eight       0.93      0.82      0.87       513\n",
      "       Five       0.92      0.89      0.91       513\n",
      "       Four       0.92      0.91      0.92       513\n",
      "       Nine       0.89      0.85      0.87       513\n",
      "        One       0.84      0.99      0.91       513\n",
      "      Seven       0.90      0.94      0.92       513\n",
      "        Six       0.95      0.96      0.96       513\n",
      "      Three       0.87      0.91      0.89       513\n",
      "        Two       0.98      0.86      0.91       513\n",
      "       Zero       0.92      0.98      0.95       513\n",
      "\n",
      "avg / total       0.91      0.91      0.91      5130\n",
      "\n"
     ]
    }
   ],
   "source": [
    "report = classification_report(y_test,y_pred)\n",
    "print(report)"
   ]
  },
  {
   "cell_type": "markdown",
   "metadata": {
    "collapsed": true
   },
   "source": [
    "### Creating for 100x100 dataset"
   ]
  },
  {
   "cell_type": "code",
   "execution_count": 33,
   "metadata": {},
   "outputs": [],
   "source": [
    "os.chdir(\"C:/Users/Sanjeev Varma/Desktop/Capstone/Signature Recognition/Data\")\n",
    "label_train = pd.read_csv('train100.csv')\n",
    "y_train = label_train['Label']\n",
    "label_test = pd.read_csv('test100.csv')\n",
    "y_test = label_test['Label']"
   ]
  },
  {
   "cell_type": "code",
   "execution_count": 34,
   "metadata": {
    "collapsed": true
   },
   "outputs": [],
   "source": [
    "X_train = label_train.iloc[:,1:10001]\n",
    "X_test = label_test.iloc[:,1:10001]"
   ]
  },
  {
   "cell_type": "code",
   "execution_count": 79,
   "metadata": {},
   "outputs": [
    {
     "name": "stdout",
     "output_type": "stream",
     "text": [
      "\n",
      "Making Predictions on Validation Data...\n",
      "\n",
      "Calculating Accuracy of Predictions...\n",
      "Accuracy score: 0.91\n",
      "\n",
      "Creating Confusion Matrix...\n"
     ]
    },
    {
     "data": {
      "text/plain": [
       "Predicted  Eight  Five  Four  Nine  One  Seven  Six  Three  Two  Zero  __all__\n",
       "Actual                                                                        \n",
       "Eight        420    17     0    17   14      4    4     33    0     4      513\n",
       "Five           2   449     2     5   20      0    8     21    0     6      513\n",
       "Four           3     0   458    23   17      0    2      0    2     8      513\n",
       "Nine           1     4    23   439   16     25    0      1    2     2      513\n",
       "One            0     0     1     1  511      0    0      0    0     0      513\n",
       "Seven          1     0     1     6   22    482    0      0    1     0      513\n",
       "Six            0     7     1     0    7      0  490      0    0     8      513\n",
       "Three         10     9     1     0   14      2    0    473    3     1      513\n",
       "Two           10     1     0     2   10     21    5     12  441    11      513\n",
       "Zero           0     2     0     0    5      0    3      3    0   500      513\n",
       "__all__      447   489   487   493  636    534  512    543  449   540     5130"
      ]
     },
     "execution_count": 79,
     "metadata": {},
     "output_type": "execute_result"
    }
   ],
   "source": [
    "clf = KNeighborsClassifier(n_neighbors=5,algorithm='auto',n_jobs=10)\n",
    "clf.fit(X_train,y_train)\n",
    "print('\\nMaking Predictions on Validation Data...')\n",
    "y_pred = clf.predict(X_test)\n",
    "\n",
    "print('\\nCalculating Accuracy of Predictions...')\n",
    "accuracy = accuracy_score(y_test, y_pred)\n",
    "print(\"Accuracy score: %0.2f\" % accuracy)\n",
    "\n",
    "print('\\nCreating Confusion Matrix...')\n",
    "ConfusionMatrix(y_test, y_pred)\n"
   ]
  },
  {
   "cell_type": "code",
   "execution_count": 80,
   "metadata": {},
   "outputs": [
    {
     "name": "stdout",
     "output_type": "stream",
     "text": [
      "             precision    recall  f1-score   support\n",
      "\n",
      "      Eight       0.94      0.82      0.88       513\n",
      "       Five       0.92      0.88      0.90       513\n",
      "       Four       0.94      0.89      0.92       513\n",
      "       Nine       0.89      0.86      0.87       513\n",
      "        One       0.80      1.00      0.89       513\n",
      "      Seven       0.90      0.94      0.92       513\n",
      "        Six       0.96      0.96      0.96       513\n",
      "      Three       0.87      0.92      0.90       513\n",
      "        Two       0.98      0.86      0.92       513\n",
      "       Zero       0.93      0.97      0.95       513\n",
      "\n",
      "avg / total       0.91      0.91      0.91      5130\n",
      "\n"
     ]
    }
   ],
   "source": [
    "report = classification_report(y_test,y_pred)\n",
    "print(report)"
   ]
  },
  {
   "cell_type": "code",
   "execution_count": 36,
   "metadata": {},
   "outputs": [
    {
     "name": "stdout",
     "output_type": "stream",
     "text": [
      "The optimal number of neighbors is 3\n"
     ]
    }
   ],
   "source": [
    "klist = list(range(2,10))\n",
    "cv_scores = []\n",
    "for k in klist:\n",
    "    knn = KNeighborsClassifier(n_neighbors=k,algorithm='auto',n_jobs=10)\n",
    "    scores = cross_val_score(knn, X_train, y_train, cv=10, scoring='accuracy')\n",
    "    cv_scores.append(scores.mean())\n",
    "MSE = [1 - x for x in cv_scores]\n",
    "\n",
    "# determining best k\n",
    "optimal_k = klist[MSE.index(min(MSE))]\n",
    "print(\"The optimal number of neighbors is %d\" % optimal_k)"
   ]
  },
  {
   "cell_type": "code",
   "execution_count": 109,
   "metadata": {},
   "outputs": [
    {
     "name": "stdout",
     "output_type": "stream",
     "text": [
      "\n",
      "Making Predictions on Validation Data...\n",
      "\n",
      "Calculating Accuracy of Predictions...\n",
      "Accuracy score: 0.89\n",
      "\n",
      "Creating Confusion Matrix...\n"
     ]
    },
    {
     "data": {
      "text/plain": [
       "Predicted  Eight  Five  Four  Nine  One  Seven  Six  Three  Two  Zero  __all__\n",
       "Actual                                                                        \n",
       "Eight        402    14     2    19   21      7    5     35    3     5      513\n",
       "Five           4   447     3     6   23      1    4     15    1     9      513\n",
       "Four           2     0   447    19   32      2    1      0    2     8      513\n",
       "Nine           0     4    38   419   20     27    0      3    1     1      513\n",
       "One            0     0     2     1  510      0    0      0    0     0      513\n",
       "Seven          1     0     1     7   29    473    0      0    2     0      513\n",
       "Six            1     8     2     0   13      0  476      0    1    12      513\n",
       "Three         11    14     4     3   20      8    0    451    0     2      513\n",
       "Two            8     2     2     3   16     30    4     14  425     9      513\n",
       "Zero           0     0     0     0    5      0    4      3    0   501      513\n",
       "__all__      429   489   501   477  689    548  494    521  435   547     5130"
      ]
     },
     "execution_count": 109,
     "metadata": {},
     "output_type": "execute_result"
    }
   ],
   "source": [
    "os.chdir(\"C:/Users/Sanjeev Varma/Desktop/Capstone/Signature Recognition/Data\")\n",
    "label_train = pd.read_csv('train100.csv')\n",
    "y_train = label_train['Label']\n",
    "label_test = pd.read_csv('test100.csv')\n",
    "y_test = label_test['Label']\n",
    "X_train = label_train.iloc[:,1:10001]\n",
    "X_test = label_test.iloc[:,1:10001]\n",
    "\n",
    "clf = KNeighborsClassifier(n_neighbors=optimal_k,algorithm='auto',n_jobs=10)\n",
    "clf.fit(X_train,y_train)\n",
    "print('\\nMaking Predictions on Validation Data...')\n",
    "y_pred = clf.predict(X_test)\n",
    "\n",
    "print('\\nCalculating Accuracy of Predictions...')\n",
    "accuracy = accuracy_score(y_test, y_pred)\n",
    "print(\"Accuracy score: %0.2f\" % accuracy)\n",
    "\n",
    "print('\\nCreating Confusion Matrix...')\n",
    "ConfusionMatrix(y_test, y_pred)"
   ]
  },
  {
   "cell_type": "code",
   "execution_count": 110,
   "metadata": {},
   "outputs": [
    {
     "name": "stdout",
     "output_type": "stream",
     "text": [
      "             precision    recall  f1-score   support\n",
      "\n",
      "      Eight       0.94      0.78      0.85       513\n",
      "       Five       0.91      0.87      0.89       513\n",
      "       Four       0.89      0.87      0.88       513\n",
      "       Nine       0.88      0.82      0.85       513\n",
      "        One       0.74      0.99      0.85       513\n",
      "      Seven       0.86      0.92      0.89       513\n",
      "        Six       0.96      0.93      0.95       513\n",
      "      Three       0.87      0.88      0.87       513\n",
      "        Two       0.98      0.83      0.90       513\n",
      "       Zero       0.92      0.98      0.95       513\n",
      "\n",
      "avg / total       0.89      0.89      0.89      5130\n",
      "\n"
     ]
    }
   ],
   "source": [
    "report = classification_report(y_test,y_pred)\n",
    "print(report)"
   ]
  },
  {
   "cell_type": "markdown",
   "metadata": {},
   "source": [
    "### Implementing PCA"
   ]
  },
  {
   "cell_type": "code",
   "execution_count": 117,
   "metadata": {},
   "outputs": [
    {
     "name": "stdout",
     "output_type": "stream",
     "text": [
      "\n",
      "Making Predictions on Validation Data...\n",
      "\n",
      "Calculating Accuracy of Predictions...\n",
      "Accuracy score: 0.89\n",
      "\n",
      "Creating Confusion Matrix...\n"
     ]
    },
    {
     "data": {
      "text/plain": [
       "Predicted  Eight  Five  Four  Nine  One  Seven  Six  Three  Two  Zero  __all__\n",
       "Actual                                                                        \n",
       "Eight        430    15     6    15   12      5    8     18    1     3      513\n",
       "Five           6   465     2     3   19      0    5     10    0     3      513\n",
       "Four           3     0   469    12   18      1    5      0    2     3      513\n",
       "Nine           2     1    62   419   11     17    0      0    0     1      513\n",
       "One            0     0     2     1  510      0    0      0    0     0      513\n",
       "Seven          1     0     4    10   27    469    0      1    1     0      513\n",
       "Six            1     9     3     0   12      0  483      1    0     4      513\n",
       "Three         10    28     3     7   13     10    1    439    1     1      513\n",
       "Two           16     3     2     2   16     33    4     21  410     6      513\n",
       "Zero           0     0     1     0    5      1    7      4    4   491      513\n",
       "__all__      469   521   554   469  643    536  513    494  419   512     5130"
      ]
     },
     "execution_count": 117,
     "metadata": {},
     "output_type": "execute_result"
    }
   ],
   "source": [
    "import numpy as np\n",
    "from sklearn.decomposition import PCA\n",
    "\n",
    "os.chdir(\"C:/Users/Sanjeev Varma/Desktop/Capstone/Signature Recognition/Data\")\n",
    "label_train = pd.read_csv('train100.csv')\n",
    "y_train = label_train['Label']\n",
    "label_test = pd.read_csv('test100.csv')\n",
    "y_test = label_test['Label']\n",
    "X_train = label_train.iloc[:,1:10001]\n",
    "X_test = label_test.iloc[:,1:10001]\n",
    "\n",
    "train = np.array(X_train)\n",
    "test = np.array(X_test)\n",
    "\n",
    "n_components = 1600\n",
    "pca = PCA(n_components=n_components,svd_solver='randomized').fit(train)\n",
    "s = pca.explained_variance_ratio_\n",
    "sum=0.0\n",
    "comp=0\n",
    "\n",
    "for _ in s:\n",
    "    sum += _\n",
    "    comp += 1\n",
    "    if(sum>=0.99):\n",
    "        break\n",
    "n_components = comp\n",
    "#fitting pca\n",
    "pca = PCA(n_components=n_components,svd_solver='randomized').fit(train)\n",
    "\n",
    "xtrain = pca.transform(train)\n",
    "xtest = pca.transform(test)\n",
    "\n",
    "clf = KNeighborsClassifier(n_neighbors=2,algorithm='auto',n_jobs=10)\n",
    "clf.fit(xtrain,y_train)\n",
    "print('\\nMaking Predictions on Validation Data...')\n",
    "y_pred = clf.predict(xtest)\n",
    "\n",
    "print('\\nCalculating Accuracy of Predictions...')\n",
    "accuracy = accuracy_score(y_test, y_pred)\n",
    "print(\"Accuracy score: %0.2f\" % accuracy)\n",
    "\n",
    "print('\\nCreating Confusion Matrix...')\n",
    "ConfusionMatrix(y_test, y_pred)"
   ]
  },
  {
   "cell_type": "code",
   "execution_count": 118,
   "metadata": {},
   "outputs": [
    {
     "name": "stdout",
     "output_type": "stream",
     "text": [
      "             precision    recall  f1-score   support\n",
      "\n",
      "      Eight       0.92      0.84      0.88       513\n",
      "       Five       0.89      0.91      0.90       513\n",
      "       Four       0.85      0.91      0.88       513\n",
      "       Nine       0.89      0.82      0.85       513\n",
      "        One       0.79      0.99      0.88       513\n",
      "      Seven       0.88      0.91      0.89       513\n",
      "        Six       0.94      0.94      0.94       513\n",
      "      Three       0.89      0.86      0.87       513\n",
      "        Two       0.98      0.80      0.88       513\n",
      "       Zero       0.96      0.96      0.96       513\n",
      "\n",
      "avg / total       0.90      0.89      0.89      5130\n",
      "\n"
     ]
    }
   ],
   "source": [
    "report = classification_report(y_test,y_pred)\n",
    "print(report)"
   ]
  },
  {
   "cell_type": "code",
   "execution_count": 85,
   "metadata": {},
   "outputs": [
    {
     "name": "stdout",
     "output_type": "stream",
     "text": [
      "The optimal number of neighbors is 4\n"
     ]
    }
   ],
   "source": [
    "klist = list(range(2,10))\n",
    "cv_scores = []\n",
    "for k in klist:\n",
    "    knn = KNeighborsClassifier(n_neighbors=k,algorithm='auto',n_jobs=10)\n",
    "    scores = cross_val_score(knn, xtrain, y_train, cv=10, scoring='accuracy')\n",
    "    cv_scores.append(scores.mean())\n",
    "MSE = [1 - x for x in cv_scores]\n",
    "\n",
    "# determining best k\n",
    "optimal_k = klist[MSE.index(min(MSE))]\n",
    "print(\"The optimal number of neighbors is %d\" % optimal_k)"
   ]
  },
  {
   "cell_type": "code",
   "execution_count": 119,
   "metadata": {},
   "outputs": [
    {
     "name": "stdout",
     "output_type": "stream",
     "text": [
      "\n",
      "Making Predictions on Validation Data...\n",
      "\n",
      "Calculating Accuracy of Predictions...\n",
      "Accuracy score: 0.89\n",
      "\n",
      "Creating Confusion Matrix...\n"
     ]
    },
    {
     "data": {
      "text/plain": [
       "Predicted  Eight  Five  Four  Nine  One  Seven  Six  Three  Two  Zero  __all__\n",
       "Actual                                                                        \n",
       "Eight        406    13     2    19   18      7    4     35    3     6      513\n",
       "Five           4   449     2     6   23      1    4     14    1     9      513\n",
       "Four           3     0   452    17   30      2    1      0    1     7      513\n",
       "Nine           0     4    39   421   19     26    0      2    1     1      513\n",
       "One            0     0     1     1  511      0    0      0    0     0      513\n",
       "Seven          1     0     2     7   27    473    0      0    2     1      513\n",
       "Six            1     7     2     0   10      0  479      0    1    13      513\n",
       "Three         10    14     4     3   17      9    0    453    0     3      513\n",
       "Two            8     2     1     3   15     31    3     14  426    10      513\n",
       "Zero           0     0     0     0    5      0    4      3    0   501      513\n",
       "__all__      433   489   505   477  675    549  495    521  435   551     5130"
      ]
     },
     "execution_count": 119,
     "metadata": {},
     "output_type": "execute_result"
    }
   ],
   "source": [
    "import numpy as np\n",
    "from sklearn.decomposition import PCA\n",
    "\n",
    "os.chdir(\"C:/Users/Sanjeev Varma/Desktop/Capstone/Signature Recognition/Data\")\n",
    "label_train = pd.read_csv('train100.csv')\n",
    "y_train = label_train['Label']\n",
    "label_test = pd.read_csv('test100.csv')\n",
    "y_test = label_test['Label']\n",
    "X_train = label_train.iloc[:,1:10001]\n",
    "X_test = label_test.iloc[:,1:10001]\n",
    "\n",
    "train = np.array(X_train)\n",
    "test = np.array(X_test)\n",
    "\n",
    "n_components = 1600\n",
    "pca = PCA(n_components=n_components,svd_solver='randomized').fit(train)\n",
    "s = pca.explained_variance_ratio_\n",
    "sum=0.0\n",
    "comp=0\n",
    "\n",
    "for _ in s:\n",
    "    sum += _\n",
    "    comp += 1\n",
    "    if(sum>=0.99):\n",
    "        break\n",
    "n_components = comp\n",
    "#fitting pca\n",
    "pca = PCA(n_components=n_components,svd_solver='randomized').fit(train)\n",
    "\n",
    "xtrain = pca.transform(train)\n",
    "xtest = pca.transform(test)\n",
    "\n",
    "clf = KNeighborsClassifier(n_neighbors=optimal_k,algorithm='auto',n_jobs=10)\n",
    "clf.fit(xtrain,y_train)\n",
    "print('\\nMaking Predictions on Validation Data...')\n",
    "y_pred = clf.predict(xtest)\n",
    "\n",
    "print('\\nCalculating Accuracy of Predictions...')\n",
    "accuracy = accuracy_score(y_test, y_pred)\n",
    "print(\"Accuracy score: %0.2f\" % accuracy)\n",
    "\n",
    "print('\\nCreating Confusion Matrix...')\n",
    "ConfusionMatrix(y_test, y_pred)"
   ]
  },
  {
   "cell_type": "code",
   "execution_count": 120,
   "metadata": {},
   "outputs": [
    {
     "name": "stdout",
     "output_type": "stream",
     "text": [
      "             precision    recall  f1-score   support\n",
      "\n",
      "      Eight       0.94      0.79      0.86       513\n",
      "       Five       0.92      0.88      0.90       513\n",
      "       Four       0.90      0.88      0.89       513\n",
      "       Nine       0.88      0.82      0.85       513\n",
      "        One       0.76      1.00      0.86       513\n",
      "      Seven       0.86      0.92      0.89       513\n",
      "        Six       0.97      0.93      0.95       513\n",
      "      Three       0.87      0.88      0.88       513\n",
      "        Two       0.98      0.83      0.90       513\n",
      "       Zero       0.91      0.98      0.94       513\n",
      "\n",
      "avg / total       0.90      0.89      0.89      5130\n",
      "\n"
     ]
    }
   ],
   "source": [
    "report = classification_report(y_test,y_pred)\n",
    "print(report)"
   ]
  },
  {
   "cell_type": "markdown",
   "metadata": {},
   "source": [
    "### Zero reversed"
   ]
  },
  {
   "cell_type": "code",
   "execution_count": 41,
   "metadata": {
    "collapsed": true
   },
   "outputs": [],
   "source": [
    "os.chdir(\"C:/Users/Sanjeev Varma/Desktop/Capstone/Signature Recognition/Data\")\n",
    "label_train = pd.read_csv('trainzero.csv')\n",
    "y_train = label_train['Label']\n",
    "label_test = pd.read_csv('testzero.csv')\n",
    "y_test = label_test['Label']"
   ]
  },
  {
   "cell_type": "code",
   "execution_count": 42,
   "metadata": {
    "collapsed": true
   },
   "outputs": [],
   "source": [
    "X_train = label_train.iloc[:,1:1601]\n",
    "X_test = label_test.iloc[:,1:1601]"
   ]
  },
  {
   "cell_type": "code",
   "execution_count": 89,
   "metadata": {},
   "outputs": [
    {
     "name": "stdout",
     "output_type": "stream",
     "text": [
      "\n",
      "Making Predictions on Validation Data...\n",
      "\n",
      "Calculating Accuracy of Predictions...\n",
      "Accuracy score: 0.91\n",
      "\n",
      "Creating Confusion Matrix...\n"
     ]
    },
    {
     "data": {
      "text/plain": [
       "Predicted  Eight  Five  Four  Nine  One  Seven  Six  Three  Two  Zero  __all__\n",
       "Actual                                                                        \n",
       "Eight        420    17     0    17   14      4    4     33    0     4      513\n",
       "Five           2   449     2     5   20      0    8     21    0     6      513\n",
       "Four           3     0   458    23   17      0    2      0    2     8      513\n",
       "Nine           1     4    23   439   16     25    0      1    2     2      513\n",
       "One            0     0     1     1  511      0    0      0    0     0      513\n",
       "Seven          1     0     1     6   22    482    0      0    1     0      513\n",
       "Six            0     7     1     0    7      0  490      0    0     8      513\n",
       "Three         10     9     1     0   14      2    0    473    3     1      513\n",
       "Two           10     1     0     2   10     21    5     12  441    11      513\n",
       "Zero           0     2     0     0    5      0    3      3    0   500      513\n",
       "__all__      447   489   487   493  636    534  512    543  449   540     5130"
      ]
     },
     "execution_count": 89,
     "metadata": {},
     "output_type": "execute_result"
    }
   ],
   "source": [
    "clf = KNeighborsClassifier(n_neighbors=5,algorithm='auto',n_jobs=10)\n",
    "clf.fit(X_train,y_train)\n",
    "print('\\nMaking Predictions on Validation Data...')\n",
    "y_pred = clf.predict(X_test)\n",
    "\n",
    "print('\\nCalculating Accuracy of Predictions...')\n",
    "accuracy = accuracy_score(y_test, y_pred)\n",
    "print(\"Accuracy score: %0.2f\" % accuracy)\n",
    "\n",
    "print('\\nCreating Confusion Matrix...')\n",
    "ConfusionMatrix(y_test, y_pred)\n"
   ]
  },
  {
   "cell_type": "code",
   "execution_count": 90,
   "metadata": {},
   "outputs": [
    {
     "name": "stdout",
     "output_type": "stream",
     "text": [
      "             precision    recall  f1-score   support\n",
      "\n",
      "      Eight       0.94      0.82      0.88       513\n",
      "       Five       0.92      0.88      0.90       513\n",
      "       Four       0.94      0.89      0.92       513\n",
      "       Nine       0.89      0.86      0.87       513\n",
      "        One       0.80      1.00      0.89       513\n",
      "      Seven       0.90      0.94      0.92       513\n",
      "        Six       0.96      0.96      0.96       513\n",
      "      Three       0.87      0.92      0.90       513\n",
      "        Two       0.98      0.86      0.92       513\n",
      "       Zero       0.93      0.97      0.95       513\n",
      "\n",
      "avg / total       0.91      0.91      0.91      5130\n",
      "\n"
     ]
    }
   ],
   "source": [
    "report = classification_report(y_test,y_pred)\n",
    "print(report)"
   ]
  },
  {
   "cell_type": "code",
   "execution_count": 44,
   "metadata": {},
   "outputs": [
    {
     "name": "stdout",
     "output_type": "stream",
     "text": [
      "The optimal number of neighbors is 4\n"
     ]
    }
   ],
   "source": [
    "klist = list(range(2,10))\n",
    "cv_scores = []\n",
    "for k in klist:\n",
    "    knn = KNeighborsClassifier(n_neighbors=k,algorithm='auto',n_jobs=10)\n",
    "    scores = cross_val_score(knn, X_train, y_train, cv=10, scoring='accuracy')\n",
    "    cv_scores.append(scores.mean())\n",
    "MSE = [1 - x for x in cv_scores]\n",
    "\n",
    "# determining best k\n",
    "optimal_k = klist[MSE.index(min(MSE))]\n",
    "print(\"The optimal number of neighbors is %d\" % optimal_k)"
   ]
  },
  {
   "cell_type": "code",
   "execution_count": 91,
   "metadata": {},
   "outputs": [
    {
     "name": "stdout",
     "output_type": "stream",
     "text": [
      "\n",
      "Making Predictions on Validation Data...\n",
      "\n",
      "Calculating Accuracy of Predictions...\n",
      "Accuracy score: 0.91\n",
      "\n",
      "Creating Confusion Matrix...\n"
     ]
    },
    {
     "data": {
      "text/plain": [
       "Predicted  Eight  Five  Four  Nine  One  Seven  Six  Three  Two  Zero  __all__\n",
       "Actual                                                                        \n",
       "Eight        423    14     1    14   13      3    5     32    3     5      513\n",
       "Five           4   458     2     5   15      1    5     16    0     7      513\n",
       "Four           3     0   467    19   12      2    3      0    2     5      513\n",
       "Nine           1     4    33   430   12     27    0      2    2     2      513\n",
       "One            0     0     2     1  510      0    0      0    0     0      513\n",
       "Seven          1     0     2     7   19    481    1      0    1     1      513\n",
       "Six            1     7     1     0    6      0  491      0    0     7      513\n",
       "Three         11    12     2     4   13      4    0    463    1     3      513\n",
       "Two            9     1     1     2    8     19    5     15  442    11      513\n",
       "Zero           0     2     0     0    5      0    3      3    0   500      513\n",
       "__all__      453   498   511   482  613    537  513    531  451   541     5130"
      ]
     },
     "execution_count": 91,
     "metadata": {},
     "output_type": "execute_result"
    }
   ],
   "source": [
    "clf = KNeighborsClassifier(n_neighbors=optimal_k,algorithm='auto',n_jobs=10)\n",
    "clf.fit(X_train,y_train)\n",
    "print('\\nMaking Predictions on Validation Data...')\n",
    "y_pred = clf.predict(X_test)\n",
    "\n",
    "print('\\nCalculating Accuracy of Predictions...')\n",
    "accuracy = accuracy_score(y_test, y_pred)\n",
    "print(\"Accuracy score: %0.2f\" % accuracy)\n",
    "\n",
    "print('\\nCreating Confusion Matrix...')\n",
    "ConfusionMatrix(y_test, y_pred)\n"
   ]
  },
  {
   "cell_type": "code",
   "execution_count": 92,
   "metadata": {},
   "outputs": [
    {
     "name": "stdout",
     "output_type": "stream",
     "text": [
      "             precision    recall  f1-score   support\n",
      "\n",
      "      Eight       0.93      0.82      0.88       513\n",
      "       Five       0.92      0.89      0.91       513\n",
      "       Four       0.91      0.91      0.91       513\n",
      "       Nine       0.89      0.84      0.86       513\n",
      "        One       0.83      0.99      0.91       513\n",
      "      Seven       0.90      0.94      0.92       513\n",
      "        Six       0.96      0.96      0.96       513\n",
      "      Three       0.87      0.90      0.89       513\n",
      "        Two       0.98      0.86      0.92       513\n",
      "       Zero       0.92      0.97      0.95       513\n",
      "\n",
      "avg / total       0.91      0.91      0.91      5130\n",
      "\n"
     ]
    }
   ],
   "source": [
    "report = classification_report(y_test,y_pred)\n",
    "print(report)"
   ]
  },
  {
   "cell_type": "markdown",
   "metadata": {},
   "source": [
    "#### Implementing PCA"
   ]
  },
  {
   "cell_type": "code",
   "execution_count": 99,
   "metadata": {},
   "outputs": [
    {
     "name": "stdout",
     "output_type": "stream",
     "text": [
      "\n",
      "Making Predictions on Validation Data...\n",
      "\n",
      "Calculating Accuracy of Predictions...\n",
      "Accuracy score: 0.34\n",
      "\n",
      "Creating Confusion Matrix...\n"
     ]
    },
    {
     "data": {
      "text/plain": [
       "Predicted  Eight  Five  Four  Nine  One  Seven  Six  Three  Two  Zero  __all__\n",
       "Actual                                                                        \n",
       "Eight         47    63    96    59   68     63   18     26   20    53      513\n",
       "Five          74    79     7    51   41     54   12     67   17   111      513\n",
       "Four          50    18   244    65   51     43   28      3    8     3      513\n",
       "Nine          50    11    92   147   67    115    2     24    2     3      513\n",
       "One           32     0     3    11  411     26    0      1   19    10      513\n",
       "Seven         44     8     8   138  132     95    5     61    6    16      513\n",
       "Six           28    12     4     2   29     13  339      9   52    25      513\n",
       "Three         22   117     7    28   15    147    2    140    7    28      513\n",
       "Two           33    59    21    12   89     55  160     21   43    20      513\n",
       "Zero          31   126     1     6   22     34   48     56    8   181      513\n",
       "__all__      411   493   483   519  925    645  614    408  182   450     5130"
      ]
     },
     "execution_count": 99,
     "metadata": {},
     "output_type": "execute_result"
    }
   ],
   "source": [
    "import numpy as np\n",
    "from sklearn.decomposition import PCA\n",
    "\n",
    "\n",
    "\n",
    "train = np.array(X_train)\n",
    "test = np.array(X_test)\n",
    " \n",
    "n_components = 1600\n",
    "pca = PCA(n_components=n_components,svd_solver='randomized').fit(train)\n",
    "s = pca.explained_variance_ratio_\n",
    "sum=0.0\n",
    "comp=0\n",
    "\n",
    "for _ in s:\n",
    "    sum += _\n",
    "    comp += 1\n",
    "    if(sum>=0.99):\n",
    "        break\n",
    "n_components = comp\n",
    "#fitting pca\n",
    "pca = PCA(n_components=n_components,svd_solver='randomized').fit(train)\n",
    "\n",
    "xtrain = pca.fit_transform(train)\n",
    "xtest = pca.fit_transform(test)\n",
    "\n",
    "clf = KNeighborsClassifier(n_neighbors=optimal_k,algorithm='auto',n_jobs=10)\n",
    "clf.fit(xtrain,y_train)\n",
    "print('\\nMaking Predictions on Validation Data...')\n",
    "y_pred = clf.predict(xtest)\n",
    "\n",
    "print('\\nCalculating Accuracy of Predictions...')\n",
    "accuracy = accuracy_score(y_test, y_pred)\n",
    "print(\"Accuracy score: %0.2f\" % accuracy)\n",
    "\n",
    "print('\\nCreating Confusion Matrix...')\n",
    "ConfusionMatrix(y_test, y_pred)"
   ]
  },
  {
   "cell_type": "code",
   "execution_count": 47,
   "metadata": {},
   "outputs": [
    {
     "name": "stdout",
     "output_type": "stream",
     "text": [
      "The optimal number of neighbors is 4\n"
     ]
    }
   ],
   "source": [
    "klist = list(range(2,10))\n",
    "cv_scores = []\n",
    "for k in klist:\n",
    "    knn = KNeighborsClassifier(n_neighbors=k,algorithm='auto',n_jobs=10)\n",
    "    scores = cross_val_score(knn, xtrain, y_train, cv=10, scoring='accuracy')\n",
    "    cv_scores.append(scores.mean())\n",
    "MSE = [1 - x for x in cv_scores]\n",
    "\n",
    "# determining best k\n",
    "optimal_k = klist[MSE.index(min(MSE))]\n",
    "print(\"The optimal number of neighbors is %d\" % optimal_k)"
   ]
  },
  {
   "cell_type": "code",
   "execution_count": 95,
   "metadata": {},
   "outputs": [
    {
     "name": "stdout",
     "output_type": "stream",
     "text": [
      "\n",
      "Making Predictions on Validation Data...\n",
      "\n",
      "Calculating Accuracy of Predictions...\n",
      "Accuracy score: 0.91\n",
      "\n",
      "Creating Confusion Matrix...\n"
     ]
    },
    {
     "data": {
      "text/plain": [
       "Predicted  Eight  Five  Four  Nine  One  Seven  Six  Three  Two  Zero  __all__\n",
       "Actual                                                                        \n",
       "Eight        423    14     1    14   13      3    5     32    3     5      513\n",
       "Five           4   458     2     5   15      1    5     16    0     7      513\n",
       "Four           3     0   467    19   12      2    3      0    2     5      513\n",
       "Nine           1     4    33   430   12     27    0      2    2     2      513\n",
       "One            0     0     2     1  510      0    0      0    0     0      513\n",
       "Seven          1     0     2     7   19    481    1      0    1     1      513\n",
       "Six            1     7     1     0    6      0  491      0    0     7      513\n",
       "Three         11    12     2     4   13      4    0    463    1     3      513\n",
       "Two            9     1     1     2    8     19    5     15  442    11      513\n",
       "Zero           0     2     0     0    5      0    3      3    0   500      513\n",
       "__all__      453   498   511   482  613    537  513    531  451   541     5130"
      ]
     },
     "execution_count": 95,
     "metadata": {},
     "output_type": "execute_result"
    }
   ],
   "source": [
    "import numpy as np\n",
    "from sklearn.decomposition import PCA\n",
    "\n",
    "train = np.array(X_train)\n",
    "test = np.array(X_test)\n",
    "\n",
    "n_components = 1600\n",
    "pca = PCA(n_components=n_components,svd_solver='randomized').fit(train)\n",
    "s = pca.explained_variance_ratio_\n",
    "sum=0.0\n",
    "comp=0\n",
    "\n",
    "for _ in s:\n",
    "    sum += _\n",
    "    comp += 1\n",
    "    if(sum>=0.99):\n",
    "        break\n",
    "\n",
    "#fitting pca\n",
    "pca = PCA(n_components=n_components,svd_solver='randomized').fit(train)\n",
    "\n",
    "xtrain = pca.transform(train)\n",
    "xtest = pca.transform(test)\n",
    "\n",
    "clf = KNeighborsClassifier(n_neighbors=optimal_k,algorithm='auto',n_jobs=10)\n",
    "clf.fit(xtrain,y_train)\n",
    "print('\\nMaking Predictions on Validation Data...')\n",
    "y_pred = clf.predict(xtest)\n",
    "\n",
    "print('\\nCalculating Accuracy of Predictions...')\n",
    "accuracy = accuracy_score(y_test, y_pred)\n",
    "print(\"Accuracy score: %0.2f\" % accuracy)\n",
    "\n",
    "print('\\nCreating Confusion Matrix...')\n",
    "ConfusionMatrix(y_test, y_pred)"
   ]
  },
  {
   "cell_type": "code",
   "execution_count": 96,
   "metadata": {},
   "outputs": [
    {
     "name": "stdout",
     "output_type": "stream",
     "text": [
      "             precision    recall  f1-score   support\n",
      "\n",
      "      Eight       0.93      0.82      0.88       513\n",
      "       Five       0.92      0.89      0.91       513\n",
      "       Four       0.91      0.91      0.91       513\n",
      "       Nine       0.89      0.84      0.86       513\n",
      "        One       0.83      0.99      0.91       513\n",
      "      Seven       0.90      0.94      0.92       513\n",
      "        Six       0.96      0.96      0.96       513\n",
      "      Three       0.87      0.90      0.89       513\n",
      "        Two       0.98      0.86      0.92       513\n",
      "       Zero       0.92      0.97      0.95       513\n",
      "\n",
      "avg / total       0.91      0.91      0.91      5130\n",
      "\n"
     ]
    }
   ],
   "source": [
    "report = classification_report(y_test,y_pred)\n",
    "print(report)"
   ]
  }
 ],
 "metadata": {
  "kernelspec": {
   "display_name": "Python 3",
   "language": "python",
   "name": "python3"
  },
  "language_info": {
   "codemirror_mode": {
    "name": "ipython",
    "version": 3
   },
   "file_extension": ".py",
   "mimetype": "text/x-python",
   "name": "python",
   "nbconvert_exporter": "python",
   "pygments_lexer": "ipython3",
   "version": "3.6.4"
  }
 },
 "nbformat": 4,
 "nbformat_minor": 2
}
