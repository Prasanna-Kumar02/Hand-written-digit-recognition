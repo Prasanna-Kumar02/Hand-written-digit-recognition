{
 "cells": [
  {
   "cell_type": "code",
   "execution_count": 3,
   "metadata": {
    "collapsed": true
   },
   "outputs": [],
   "source": [
    "import numpy as np #To convert into numpy arrays\n",
    "import os #To change the root directory\n",
    "import pandas as pd #to import the dataset\n",
    "from sklearn.ensemble import RandomForestClassifier #Randomclassifier\n",
    "from sklearn.metrics import accuracy_score # To calculate accuracy\n",
    "from pandas_ml import ConfusionMatrix #To generate Confusion matrix\n",
    "from sklearn.metrics import classification_report #to calculate precision and recall\n"
   ]
  },
  {
   "cell_type": "code",
   "execution_count": 4,
   "metadata": {
    "collapsed": true
   },
   "outputs": [],
   "source": [
    "#Importing Datasets\n",
    "os.chdir(\"C:/Users/Sanjeev Varma/Desktop/Capstone/Signature Recognition/Data\")\n",
    "label_train = pd.read_csv('train_numbers.csv')\n",
    "y_train = label_train['Label']\n",
    "label_test = pd.read_csv('test_numbers.csv')\n",
    "y_test = label_test['Label']"
   ]
  },
  {
   "cell_type": "code",
   "execution_count": 5,
   "metadata": {
    "collapsed": true
   },
   "outputs": [],
   "source": [
    "X_train = label_train.iloc[:,1:1601]\n",
    "X_test = label_test.iloc[:,1:1601]"
   ]
  },
  {
   "cell_type": "code",
   "execution_count": 6,
   "metadata": {
    "collapsed": true
   },
   "outputs": [],
   "source": [
    "#Creating a RandomForest Classifier\n",
    "randomforest = RandomForestClassifier()\n",
    "randomforest.fit(X_train, y_train)  \n",
    "pred = randomforest.predict(X_test)"
   ]
  },
  {
   "cell_type": "code",
   "execution_count": 7,
   "metadata": {
    "collapsed": false
   },
   "outputs": [
    {
     "name": "stdout",
     "output_type": "stream",
     "text": [
      "Accuracy score: 0.85\n",
      "\n",
      "Creating Confusion Matrix...\n"
     ]
    },
    {
     "data": {
      "text/plain": [
       "Predicted  Eight  Five  Four  Nine  One  Seven  Six  Three  Two  Zero  __all__\n",
       "Actual                                                                        \n",
       "Eight        398    20    18    24    3      5   11     19    8     7      513\n",
       "Five          17   401     8    11   15      5   17     33    3     3      513\n",
       "Four          17     9   412    37    2      5    7      6    8    10      513\n",
       "Nine          19     7    44   410    0     25    1      3    2     2      513\n",
       "One            1     1     1     1  501      2    1      4    1     0      513\n",
       "Seven          5     4     9    24    4    462    0      1    3     1      513\n",
       "Six            8    13     6     0    5      0  468      2    8     3      513\n",
       "Three         24    28     6    13   11      7    3    406   13     2      513\n",
       "Two           20     7     5     2    3      8   26     22  415     5      513\n",
       "Zero           5     3     5     1    5      2   12      3    5   472      513\n",
       "__all__      514   493   514   523  549    521  546    499  466   505     5130"
      ]
     },
     "execution_count": 7,
     "metadata": {},
     "output_type": "execute_result"
    }
   ],
   "source": [
    "accuracy = accuracy_score(y_test, pred)\n",
    "print(\"Accuracy score: %0.2f\" % accuracy)\n",
    "\n",
    "print('\\nCreating Confusion Matrix...')\n",
    "ConfusionMatrix(y_test, pred)\n"
   ]
  },
  {
   "cell_type": "code",
   "execution_count": 8,
   "metadata": {
    "collapsed": false
   },
   "outputs": [
    {
     "name": "stdout",
     "output_type": "stream",
     "text": [
      "             precision    recall  f1-score   support\n",
      "\n",
      "      Eight       0.77      0.78      0.78       513\n",
      "       Five       0.81      0.78      0.80       513\n",
      "       Four       0.80      0.80      0.80       513\n",
      "       Nine       0.78      0.80      0.79       513\n",
      "        One       0.91      0.98      0.94       513\n",
      "      Seven       0.89      0.90      0.89       513\n",
      "        Six       0.86      0.91      0.88       513\n",
      "      Three       0.81      0.79      0.80       513\n",
      "        Two       0.89      0.81      0.85       513\n",
      "       Zero       0.93      0.92      0.93       513\n",
      "\n",
      "avg / total       0.85      0.85      0.85      5130\n",
      "\n"
     ]
    }
   ],
   "source": [
    "report = classification_report(y_test,pred)\n",
    "print(report)"
   ]
  },
  {
   "cell_type": "code",
   "execution_count": 9,
   "metadata": {
    "collapsed": true
   },
   "outputs": [],
   "source": [
    "os.chdir(\"C:/Users/Sanjeev Varma/Desktop/Capstone/Signature Recognition/Data\")\n",
    "label_train = pd.read_csv('trainzero.csv')\n",
    "y_train = label_train['Label']\n",
    "label_test = pd.read_csv('testzero.csv')\n",
    "y_test = label_test['Label']"
   ]
  },
  {
   "cell_type": "code",
   "execution_count": 10,
   "metadata": {
    "collapsed": true
   },
   "outputs": [],
   "source": [
    "X_train = label_train.iloc[:,1:1601]\n",
    "X_test = label_test.iloc[:,1:1601]"
   ]
  },
  {
   "cell_type": "code",
   "execution_count": 11,
   "metadata": {
    "collapsed": true
   },
   "outputs": [],
   "source": [
    "\n",
    "randomforest = RandomForestClassifier()\n",
    "randomforest.fit(X_train, y_train)  \n",
    "pred = randomforest.predict(X_test)\n"
   ]
  },
  {
   "cell_type": "code",
   "execution_count": 12,
   "metadata": {
    "collapsed": false
   },
   "outputs": [
    {
     "name": "stdout",
     "output_type": "stream",
     "text": [
      "Accuracy score: 0.86\n",
      "\n",
      "Creating Confusion Matrix...\n"
     ]
    },
    {
     "data": {
      "text/plain": [
       "Predicted  Eight  Five  Four  Nine  One  Seven  Six  Three  Two  Zero  __all__\n",
       "Actual                                                                        \n",
       "Eight        404    17    15    22    9      1    8     20   12     5      513\n",
       "Five           7   425     6     7   14      0   12     32    5     5      513\n",
       "Four          21    11   426    23    4      2    9      1    9     7      513\n",
       "Nine          13    13    52   398    2     23    1      6    0     5      513\n",
       "One            2     1     0     2  503      0    4      1    0     0      513\n",
       "Seven          4     1    14    14    9    464    0      3    4     0      513\n",
       "Six            6     8    12     0    4      0  467      0   11     5      513\n",
       "Three         20    31     2     9    8     14    3    419    4     3      513\n",
       "Two           26     7     6     1    5     15   15     23  409     6      513\n",
       "Zero           2     4     3     1    0      2    8      1   10   482      513\n",
       "__all__      505   518   536   477  558    521  527    506  464   518     5130"
      ]
     },
     "execution_count": 12,
     "metadata": {},
     "output_type": "execute_result"
    }
   ],
   "source": [
    "accuracy = accuracy_score(y_test, pred)\n",
    "print(\"Accuracy score: %0.2f\" % accuracy)\n",
    "\n",
    "print('\\nCreating Confusion Matrix...')\n",
    "ConfusionMatrix(y_test, pred)\n"
   ]
  },
  {
   "cell_type": "code",
   "execution_count": 13,
   "metadata": {
    "collapsed": false
   },
   "outputs": [
    {
     "name": "stdout",
     "output_type": "stream",
     "text": [
      "             precision    recall  f1-score   support\n",
      "\n",
      "      Eight       0.80      0.79      0.79       513\n",
      "       Five       0.82      0.83      0.82       513\n",
      "       Four       0.79      0.83      0.81       513\n",
      "       Nine       0.83      0.78      0.80       513\n",
      "        One       0.90      0.98      0.94       513\n",
      "      Seven       0.89      0.90      0.90       513\n",
      "        Six       0.89      0.91      0.90       513\n",
      "      Three       0.83      0.82      0.82       513\n",
      "        Two       0.88      0.80      0.84       513\n",
      "       Zero       0.93      0.94      0.94       513\n",
      "\n",
      "avg / total       0.86      0.86      0.86      5130\n",
      "\n"
     ]
    }
   ],
   "source": [
    "report = classification_report(y_test,pred)\n",
    "print(report)"
   ]
  },
  {
   "cell_type": "code",
   "execution_count": null,
   "metadata": {
    "collapsed": true
   },
   "outputs": [],
   "source": []
  },
  {
   "cell_type": "code",
   "execution_count": 14,
   "metadata": {
    "collapsed": true
   },
   "outputs": [],
   "source": [
    "os.chdir(\"C:/Users/Sanjeev Varma/Desktop/Capstone/Signature Recognition/Data\")\n",
    "label_train = pd.read_csv('train100.csv')\n",
    "y_train = label_train['Label']\n",
    "label_test = pd.read_csv('test100.csv')\n",
    "y_test = label_test['Label']"
   ]
  },
  {
   "cell_type": "code",
   "execution_count": 15,
   "metadata": {
    "collapsed": true
   },
   "outputs": [],
   "source": [
    "X_train = label_train.iloc[:,1:10001]\n",
    "X_test = label_test.iloc[:,1:10001]"
   ]
  },
  {
   "cell_type": "code",
   "execution_count": 16,
   "metadata": {
    "collapsed": true
   },
   "outputs": [],
   "source": [
    "randomforest = RandomForestClassifier()\n",
    "randomforest.fit(X_train, y_train)  \n",
    "pred = randomforest.predict(X_test)\n"
   ]
  },
  {
   "cell_type": "code",
   "execution_count": 17,
   "metadata": {
    "collapsed": false
   },
   "outputs": [
    {
     "name": "stdout",
     "output_type": "stream",
     "text": [
      "Accuracy score: 0.86\n",
      "\n",
      "Creating Confusion Matrix...\n"
     ]
    },
    {
     "data": {
      "text/plain": [
       "Predicted  Eight  Five  Four  Nine  One  Seven  Six  Three  Two  Zero  __all__\n",
       "Actual                                                                        \n",
       "Eight        405    17    14    25    9      4    9     10    9    11      513\n",
       "Five          11   431     8     4   10      0   14     26    4     5      513\n",
       "Four          17     8   415    32    4      3    6      4   13    11      513\n",
       "Nine          17     8    39   416    4     18    0      7    3     1      513\n",
       "One            2     3     2     0  496      4    2      3    0     1      513\n",
       "Seven          9     0     9    11    9    471    1      2    0     1      513\n",
       "Six            6    11     3     0    6      0  477      1    6     3      513\n",
       "Three         14    28     3    15    6      8    2    428    8     1      513\n",
       "Two           29     6     4     7    4      6   20     14  417     6      513\n",
       "Zero           2     5     3     3    5      5    5      4    4   477      513\n",
       "__all__      512   517   500   513  553    519  536    499  464   517     5130"
      ]
     },
     "execution_count": 17,
     "metadata": {},
     "output_type": "execute_result"
    }
   ],
   "source": [
    "accuracy = accuracy_score(y_test, pred)\n",
    "print(\"Accuracy score: %0.2f\" % accuracy)\n",
    "\n",
    "print('\\nCreating Confusion Matrix...')\n",
    "ConfusionMatrix(y_test, pred)\n"
   ]
  },
  {
   "cell_type": "code",
   "execution_count": 18,
   "metadata": {
    "collapsed": false
   },
   "outputs": [
    {
     "name": "stdout",
     "output_type": "stream",
     "text": [
      "             precision    recall  f1-score   support\n",
      "\n",
      "      Eight       0.79      0.79      0.79       513\n",
      "       Five       0.83      0.84      0.84       513\n",
      "       Four       0.83      0.81      0.82       513\n",
      "       Nine       0.81      0.81      0.81       513\n",
      "        One       0.90      0.97      0.93       513\n",
      "      Seven       0.91      0.92      0.91       513\n",
      "        Six       0.89      0.93      0.91       513\n",
      "      Three       0.86      0.83      0.85       513\n",
      "        Two       0.90      0.81      0.85       513\n",
      "       Zero       0.92      0.93      0.93       513\n",
      "\n",
      "avg / total       0.86      0.86      0.86      5130\n",
      "\n"
     ]
    }
   ],
   "source": [
    "report = classification_report(y_test,pred)\n",
    "print(report)"
   ]
  },
  {
   "cell_type": "code",
   "execution_count": null,
   "metadata": {
    "collapsed": true
   },
   "outputs": [],
   "source": []
  }
 ],
 "metadata": {
  "kernelspec": {
   "display_name": "Python 3",
   "language": "python",
   "name": "python3"
  },
  "language_info": {
   "codemirror_mode": {
    "name": "ipython",
    "version": 3
   },
   "file_extension": ".py",
   "mimetype": "text/x-python",
   "name": "python",
   "nbconvert_exporter": "python",
   "pygments_lexer": "ipython3",
   "version": "3.6.0"
  }
 },
 "nbformat": 4,
 "nbformat_minor": 2
}
