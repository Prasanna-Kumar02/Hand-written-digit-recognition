{
 "cells": [
  {
   "cell_type": "markdown",
   "metadata": {},
   "source": [
    "### Saving Model for Further Use"
   ]
  },
  {
   "cell_type": "code",
   "execution_count": 1,
   "metadata": {
    "collapsed": true
   },
   "outputs": [],
   "source": [
    "from sklearn.neighbors import KNeighborsClassifier #K nearest neighbours\n",
    "from sklearn.metrics import accuracy_score, confusion_matrix #to calculate accuracy\n",
    "import os #To change root directory\n",
    "import pandas as pd #to import dataset"
   ]
  },
  {
   "cell_type": "code",
   "execution_count": 2,
   "metadata": {
    "collapsed": true
   },
   "outputs": [],
   "source": [
    "#Importing Dataset\n",
    "os.chdir(\"C:/Users/Sanjeev Varma/Desktop/Capstone/Signature Recognition/Data\")\n",
    "label_train = pd.read_csv('train_numbers.csv')\n",
    "y_train = label_train['Label']\n",
    "label_test = pd.read_csv('test_numbers.csv')\n",
    "y_test = label_test['Label']"
   ]
  },
  {
   "cell_type": "code",
   "execution_count": 3,
   "metadata": {
    "collapsed": true
   },
   "outputs": [],
   "source": [
    "X_train = label_train.iloc[:,1:1601]\n",
    "X_test = label_test.iloc[:,1:1601]\n"
   ]
  },
  {
   "cell_type": "code",
   "execution_count": 4,
   "metadata": {
    "collapsed": false
   },
   "outputs": [
    {
     "data": {
      "text/plain": [
       "KNeighborsClassifier(algorithm='auto', leaf_size=30, metric='minkowski',\n",
       "           metric_params=None, n_jobs=10, n_neighbors=4, p=2,\n",
       "           weights='uniform')"
      ]
     },
     "execution_count": 4,
     "metadata": {},
     "output_type": "execute_result"
    }
   ],
   "source": [
    "#Creating KNN Classifier\n",
    "clf = KNeighborsClassifier(n_neighbors=4,algorithm='auto',n_jobs=10)\n",
    "clf.fit(X_train,y_train)"
   ]
  },
  {
   "cell_type": "code",
   "execution_count": 5,
   "metadata": {
    "collapsed": false
   },
   "outputs": [
    {
     "name": "stdout",
     "output_type": "stream",
     "text": [
      "\n",
      "Making Predictions on Validation Data...\n",
      "\n",
      "Calculating Accuracy of Predictions...\n",
      "Accuracy score: 0.91\n",
      "\n",
      "Creating Confusion Matrix...\n"
     ]
    },
    {
     "data": {
      "text/plain": [
       "array([[423,  14,   1,  14,  13,   3,   5,  32,   3,   5],\n",
       "       [  4, 458,   2,   5,  15,   1,   5,  16,   0,   7],\n",
       "       [  3,   0, 467,  19,  12,   2,   3,   0,   2,   5],\n",
       "       [  1,   4,  33, 430,  12,  27,   0,   2,   2,   2],\n",
       "       [  0,   0,   2,   1, 510,   0,   0,   0,   0,   0],\n",
       "       [  1,   0,   2,   7,  19, 481,   1,   0,   1,   1],\n",
       "       [  1,   7,   1,   0,   6,   0, 491,   0,   0,   7],\n",
       "       [ 11,  12,   2,   4,  13,   4,   0, 463,   1,   3],\n",
       "       [  9,   1,   1,   2,   8,  19,   5,  15, 442,  11],\n",
       "       [  0,   2,   0,   0,   5,   0,   3,   3,   0, 500]])"
      ]
     },
     "execution_count": 5,
     "metadata": {},
     "output_type": "execute_result"
    }
   ],
   "source": [
    "print('\\nMaking Predictions on Validation Data...')\n",
    "y_pred = clf.predict(X_test)\n",
    "\n",
    "print('\\nCalculating Accuracy of Predictions...')\n",
    "accuracy = accuracy_score(y_test, y_pred)\n",
    "print(\"Accuracy score: %0.2f\" % accuracy)\n",
    "\n",
    "print('\\nCreating Confusion Matrix...')\n",
    "confusion_matrix(y_test,y_pred)"
   ]
  },
  {
   "cell_type": "code",
   "execution_count": 6,
   "metadata": {
    "collapsed": true
   },
   "outputs": [],
   "source": [
    "import pickle #To save the model\n",
    "import os #to change directory\n",
    "from sklearn.externals import joblib  #to save model\n",
    "# Save to file in the current working directory\n",
    "pkl_filename = \"pickle_model.pkl\"  \n",
    "with open(pkl_filename, 'wb') as file:  \n",
    "    pickle.dump(clf, file)\n",
    "\n",
    "# Load from file\n",
    "with open(pkl_filename, 'rb') as file:  \n",
    "    pickle_model = pickle.load(file)\n",
    "\n",
    "\n",
    "# Save to file in the current working directory\n",
    "joblib_file = \"joblib_model.pkl\"  \n",
    "joblib.dump(clf, joblib_file)\n",
    "\n",
    "# Load from file\n",
    "joblib_model = joblib.load(joblib_file)\n",
    "\n"
   ]
  },
  {
   "cell_type": "code",
   "execution_count": null,
   "metadata": {
    "collapsed": true
   },
   "outputs": [],
   "source": []
  }
 ],
 "metadata": {
  "kernelspec": {
   "display_name": "Python 3",
   "language": "python",
   "name": "python3"
  },
  "language_info": {
   "codemirror_mode": {
    "name": "ipython",
    "version": 3
   },
   "file_extension": ".py",
   "mimetype": "text/x-python",
   "name": "python",
   "nbconvert_exporter": "python",
   "pygments_lexer": "ipython3",
   "version": "3.6.0"
  }
 },
 "nbformat": 4,
 "nbformat_minor": 2
}
