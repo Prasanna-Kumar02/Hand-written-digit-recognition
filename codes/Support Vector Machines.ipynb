{
 "cells": [
  {
   "cell_type": "markdown",
   "metadata": {},
   "source": [
    "### SVM Model For Digit Recognition"
   ]
  },
  {
   "cell_type": "code",
   "execution_count": 18,
   "metadata": {
    "collapsed": true
   },
   "outputs": [],
   "source": [
    "from sklearn import svm, metrics #Importing SVM model builder\n",
    "import numpy as np #to convert into numpy arrays\n",
    "import os #to change the source directory\n",
    "import pandas as pd #to upload the data\n",
    "from sklearn.metrics import accuracy_score # to Calculate accuracy\n",
    "from pandas_ml import ConfusionMatrix #To Generate Confusion Matrix\n",
    "from sklearn.metrics import classification_report # To Calculate Precision, Recall\n"
   ]
  },
  {
   "cell_type": "code",
   "execution_count": 19,
   "metadata": {
    "collapsed": true
   },
   "outputs": [],
   "source": [
    "#Importing the data\n",
    "os.chdir(\"C:/Users/Sanjeev Varma/Desktop/Capstone/Signature Recognition/Data\")\n",
    "label_train = pd.read_csv('train_numbers.csv')\n",
    "y_train = label_train['Label']\n",
    "label_test = pd.read_csv('test_numbers.csv')\n",
    "y_test = label_test['Label']"
   ]
  },
  {
   "cell_type": "code",
   "execution_count": 20,
   "metadata": {
    "collapsed": true
   },
   "outputs": [],
   "source": [
    "X_train = label_train.iloc[:,1:1601]\n",
    "X_test = label_test.iloc[:,1:1601]"
   ]
  },
  {
   "cell_type": "code",
   "execution_count": 21,
   "metadata": {
    "collapsed": false
   },
   "outputs": [
    {
     "name": "stdout",
     "output_type": "stream",
     "text": [
      "Accuracy score: 0.75\n"
     ]
    },
    {
     "data": {
      "text/plain": [
       "Predicted  Eight  Five  Four  Nine  One  Seven  Six  Three  Two  Zero  __all__\n",
       "Actual                                                                        \n",
       "Eight        432    11     3     1   29     11    6      4    9     7      513\n",
       "Five          68   324    12    12   13      5   28     31   12     8      513\n",
       "Four          67     7   324    35   10     21   22      1   17     9      513\n",
       "Nine         134     8    17   262   11     68    0      2    8     3      513\n",
       "One           43     0     7     9  414     16    6      4    1    13      513\n",
       "Seven         17     0     5    10   15    449    0      4   12     1      513\n",
       "Six           20     6     3     0   13      0  456      2   12     1      513\n",
       "Three         51    31     5     4   17     21    1    355   17    11      513\n",
       "Two           33     3     5     2   10      8    6     14  426     6      513\n",
       "Zero          30     7    10     2   10     10    2     12    9   421      513\n",
       "__all__      895   397   391   337  542    609  527    429  523   480     5130"
      ]
     },
     "execution_count": 21,
     "metadata": {},
     "output_type": "execute_result"
    }
   ],
   "source": [
    "#Creating svm Classifier\n",
    "classifier = svm.LinearSVC()\n",
    "# Learning Phase\n",
    "classifier.fit(X_train, y_train)\n",
    "\n",
    "# Predict Test Set\n",
    "predicted = classifier.predict(X_test)\n",
    "\n",
    "#Calculating the accuracy score\n",
    "score = accuracy_score(y_test, predicted)\n",
    "print(\"Accuracy score: %0.2f\" % score)\n",
    "\n",
    "# confusion matrix\n",
    "ConfusionMatrix(y_test, predicted)\n"
   ]
  },
  {
   "cell_type": "code",
   "execution_count": 22,
   "metadata": {
    "collapsed": false
   },
   "outputs": [
    {
     "name": "stdout",
     "output_type": "stream",
     "text": [
      "             precision    recall  f1-score   support\n",
      "\n",
      "      Eight       0.48      0.84      0.61       513\n",
      "       Five       0.82      0.63      0.71       513\n",
      "       Four       0.83      0.63      0.72       513\n",
      "       Nine       0.78      0.51      0.62       513\n",
      "        One       0.76      0.81      0.78       513\n",
      "      Seven       0.74      0.88      0.80       513\n",
      "        Six       0.87      0.89      0.88       513\n",
      "      Three       0.83      0.69      0.75       513\n",
      "        Two       0.81      0.83      0.82       513\n",
      "       Zero       0.88      0.82      0.85       513\n",
      "\n",
      "avg / total       0.78      0.75      0.75      5130\n",
      "\n"
     ]
    }
   ],
   "source": [
    "#Calculating the precision and recall\n",
    "report = classification_report(y_test,predicted)\n",
    "print(report)"
   ]
  },
  {
   "cell_type": "markdown",
   "metadata": {},
   "source": [
    "### SVM Model for Reversed values of Pixels 0-black and 255 is white"
   ]
  },
  {
   "cell_type": "code",
   "execution_count": 23,
   "metadata": {
    "collapsed": true
   },
   "outputs": [],
   "source": [
    "#Importing the dataset\n",
    "os.chdir(\"C:/Users/Sanjeev Varma/Desktop/Capstone/Signature Recognition/Data\")\n",
    "label_train = pd.read_csv('trainzero.csv')\n",
    "y_train = label_train['Label']\n",
    "label_test = pd.read_csv('testzero.csv')\n",
    "y_test = label_test['Label']"
   ]
  },
  {
   "cell_type": "code",
   "execution_count": 24,
   "metadata": {
    "collapsed": true
   },
   "outputs": [],
   "source": [
    "X_train = label_train.iloc[:,1:1601]\n",
    "X_test = label_test.iloc[:,1:1601]"
   ]
  },
  {
   "cell_type": "code",
   "execution_count": 25,
   "metadata": {
    "collapsed": false
   },
   "outputs": [
    {
     "name": "stdout",
     "output_type": "stream",
     "text": [
      "Accuracy score: 0.81\n"
     ]
    },
    {
     "data": {
      "text/plain": [
       "Predicted  Eight  Five  Four  Nine  One  Seven  Six  Three  Two  Zero  __all__\n",
       "Actual                                                                        \n",
       "Eight        353    24     5    49   35      1    3     18   10    15      513\n",
       "Five           8   387     3    19   29      0    8     31    7    21      513\n",
       "Four          26     8   312    94   19      0   12      2   19    21      513\n",
       "Nine          10     7     3   454    9     15    0      3    4     8      513\n",
       "One            5     8     0     9  468      0    1      3    1    18      513\n",
       "Seven          7     2     1    64   29    391    0      1   12     6      513\n",
       "Six            7     8     2     0   19      0  454      3   10    10      513\n",
       "Three          8    28     3    11   21      3    0    413   15    11      513\n",
       "Two           16     7     3     3    7      1    1     14  455     6      513\n",
       "Zero           4     5     0     0   12      2    0      4    6   480      513\n",
       "__all__      444   484   332   703  648    413  479    492  539   596     5130"
      ]
     },
     "execution_count": 25,
     "metadata": {},
     "output_type": "execute_result"
    }
   ],
   "source": [
    "#Creating SVM Classifier\n",
    "classifier = svm.LinearSVC()\n",
    "# Learning Phase\n",
    "classifier.fit(X_train, y_train)\n",
    "\n",
    "# Predict Test Set\n",
    "predicted = classifier.predict(X_test)\n",
    "\n",
    "score = accuracy_score(y_test, predicted)\n",
    "print(\"Accuracy score: %0.2f\" % score)\n",
    "\n",
    "# confusion matrix\n",
    "ConfusionMatrix(y_test, predicted)\n"
   ]
  },
  {
   "cell_type": "code",
   "execution_count": 26,
   "metadata": {
    "collapsed": false
   },
   "outputs": [
    {
     "name": "stdout",
     "output_type": "stream",
     "text": [
      "             precision    recall  f1-score   support\n",
      "\n",
      "      Eight       0.80      0.69      0.74       513\n",
      "       Five       0.80      0.75      0.78       513\n",
      "       Four       0.94      0.61      0.74       513\n",
      "       Nine       0.65      0.88      0.75       513\n",
      "        One       0.72      0.91      0.81       513\n",
      "      Seven       0.95      0.76      0.84       513\n",
      "        Six       0.95      0.88      0.92       513\n",
      "      Three       0.84      0.81      0.82       513\n",
      "        Two       0.84      0.89      0.87       513\n",
      "       Zero       0.81      0.94      0.87       513\n",
      "\n",
      "avg / total       0.83      0.81      0.81      5130\n",
      "\n"
     ]
    }
   ],
   "source": [
    "#Calculating Precision and Recall\n",
    "report = classification_report(y_test,predicted)\n",
    "print(report)"
   ]
  },
  {
   "cell_type": "markdown",
   "metadata": {},
   "source": [
    "### SVM Model for Dataset with Images of size 100x100 pixels"
   ]
  },
  {
   "cell_type": "code",
   "execution_count": 27,
   "metadata": {
    "collapsed": true
   },
   "outputs": [],
   "source": [
    "#Importing the dataset\n",
    "os.chdir(\"C:/Users/Sanjeev Varma/Desktop/Capstone/Signature Recognition/Data\")\n",
    "label_train = pd.read_csv('train100.csv')\n",
    "y_train = label_train['Label']\n",
    "label_test = pd.read_csv('test100.csv')\n",
    "y_test = label_test['Label']"
   ]
  },
  {
   "cell_type": "code",
   "execution_count": 28,
   "metadata": {
    "collapsed": true
   },
   "outputs": [],
   "source": [
    "X_train = label_train.iloc[:,1:10001]\n",
    "X_test = label_test.iloc[:,1:10001]"
   ]
  },
  {
   "cell_type": "code",
   "execution_count": 29,
   "metadata": {
    "collapsed": false
   },
   "outputs": [
    {
     "name": "stdout",
     "output_type": "stream",
     "text": [
      "Accuracy score: 0.72\n"
     ]
    },
    {
     "data": {
      "text/plain": [
       "Predicted  Eight  Five  Four  Nine  One  Seven  Six  Three  Two  Zero  __all__\n",
       "Actual                                                                        \n",
       "Eight        260    52    26    49   38     13    7     33   12    23      513\n",
       "Five          24   320    26    21   10      5   33     52    5    17      513\n",
       "Four          12    16   360    51    4      6   18      5   17    24      513\n",
       "Nine          25    15    41   360    8     36    1     15    3     9      513\n",
       "One           39     5    11    21  378      4    5     15    8    27      513\n",
       "Seven         11     3    11    46    9    406    0     10   11     6      513\n",
       "Six           11    12    15     1   10      0  418      7   17    22      513\n",
       "Three         25    34     3    13    8     11    0    389   11    19      513\n",
       "Two           35    12    10     2   14      7   13     29  381    10      513\n",
       "Zero          12    15    13     4    5      9    3     14    4   434      513\n",
       "__all__      454   484   516   568  484    497  498    569  469   591     5130"
      ]
     },
     "execution_count": 29,
     "metadata": {},
     "output_type": "execute_result"
    }
   ],
   "source": [
    "#Creating SVM Classifier\n",
    "classifier = svm.LinearSVC()\n",
    "# Learning Phase\n",
    "classifier.fit(X_train, y_train)\n",
    "\n",
    "# Predict Test Set\n",
    "predicted = classifier.predict(X_test)\n",
    "\n",
    "score = accuracy_score(y_test, predicted)\n",
    "print(\"Accuracy score: %0.2f\" % score)\n",
    "\n",
    "# confusion matrix\n",
    "ConfusionMatrix(y_test, predicted)\n"
   ]
  },
  {
   "cell_type": "code",
   "execution_count": 30,
   "metadata": {
    "collapsed": false
   },
   "outputs": [
    {
     "name": "stdout",
     "output_type": "stream",
     "text": [
      "             precision    recall  f1-score   support\n",
      "\n",
      "      Eight       0.57      0.51      0.54       513\n",
      "       Five       0.66      0.62      0.64       513\n",
      "       Four       0.70      0.70      0.70       513\n",
      "       Nine       0.63      0.70      0.67       513\n",
      "        One       0.78      0.74      0.76       513\n",
      "      Seven       0.82      0.79      0.80       513\n",
      "        Six       0.84      0.81      0.83       513\n",
      "      Three       0.68      0.76      0.72       513\n",
      "        Two       0.81      0.74      0.78       513\n",
      "       Zero       0.73      0.85      0.79       513\n",
      "\n",
      "avg / total       0.72      0.72      0.72      5130\n",
      "\n"
     ]
    }
   ],
   "source": [
    "#Calculating Precision and Recall.\n",
    "report = classification_report(y_test,predicted)\n",
    "print(report)"
   ]
  },
  {
   "cell_type": "code",
   "execution_count": null,
   "metadata": {
    "collapsed": true
   },
   "outputs": [],
   "source": []
  }
 ],
 "metadata": {
  "kernelspec": {
   "display_name": "Python 3",
   "language": "python",
   "name": "python3"
  },
  "language_info": {
   "codemirror_mode": {
    "name": "ipython",
    "version": 3
   },
   "file_extension": ".py",
   "mimetype": "text/x-python",
   "name": "python",
   "nbconvert_exporter": "python",
   "pygments_lexer": "ipython3",
   "version": "3.6.0"
  }
 },
 "nbformat": 4,
 "nbformat_minor": 2
}
