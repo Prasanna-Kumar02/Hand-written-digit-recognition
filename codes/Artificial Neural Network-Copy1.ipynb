{
 "cells": [
  {
   "cell_type": "markdown",
   "metadata": {},
   "source": [
    "### Digit Recognition ANN Model"
   ]
  },
  {
   "cell_type": "markdown",
   "metadata": {},
   "source": [
    "### ANN Model for 40x40 pixel dataset"
   ]
  },
  {
   "cell_type": "code",
   "execution_count": 3,
   "metadata": {},
   "outputs": [],
   "source": [
    "from sklearn.model_selection import GridSearchCV #To find Best number of nodes\n",
    "from sklearn.neural_network import MLPClassifier #MLP Classifier\n",
    "from sklearn.metrics import confusion_matrix # To generate confusion matrix\n",
    "import numpy as np #To convert into numpy arrays\n",
    "import pandas as pd #To import datasets\n",
    "import os #To change root directory\n",
    "from sklearn.metrics import accuracy_score,classification_report #To calculate accuracy, precision,recall"
   ]
  },
  {
   "cell_type": "code",
   "execution_count": 4,
   "metadata": {},
   "outputs": [],
   "source": [
    "#Importing Dataset\n",
    "os.chdir(\"C:\\\\Users\\\\Prasanna Kumar\\\\Desktop\\\\Projects\\\\handwritten digit recognition\\\\dataset\")\n",
    "label_train = pd.read_csv('train_numbers.csv')\n",
    "y_train = label_train['Label']\n",
    "label_test = pd.read_csv('test_numbers.csv')\n",
    "y_test = label_test['Label']"
   ]
  },
  {
   "cell_type": "code",
   "execution_count": 5,
   "metadata": {},
   "outputs": [],
   "source": [
    "X_train = label_train.iloc[:,1:1601]\n",
    "X_test = label_test.iloc[:,1:1601]"
   ]
  },
  {
   "cell_type": "code",
   "execution_count": 4,
   "metadata": {},
   "outputs": [
    {
     "data": {
      "text/plain": [
       "MLPClassifier(activation='logistic', alpha=1e-05, batch_size='auto',\n",
       "       beta_1=0.9, beta_2=0.999, early_stopping=False, epsilon=1e-08,\n",
       "       hidden_layer_sizes=(80,), learning_rate='adaptive',\n",
       "       learning_rate_init=0.002, max_iter=2000, momentum=0.9,\n",
       "       nesterovs_momentum=True, power_t=0.5, random_state=1, shuffle=True,\n",
       "       solver='adam', tol=0.0001, validation_fraction=0.1, verbose=False,\n",
       "       warm_start=False)"
      ]
     },
     "execution_count": 4,
     "metadata": {},
     "output_type": "execute_result"
    }
   ],
   "source": [
    "#Building an MLP Classifier\n",
    "ann = MLPClassifier(hidden_layer_sizes=(80,), # one hidden layer with 80 nodes\n",
    "                    activation='logistic', # logistic/ sigmoid function\n",
    "                    solver='adam', # stochastic gradient descent\n",
    "                    alpha=1e-5, # regularization\n",
    "                    random_state=1,\n",
    "                    max_iter=2000,\n",
    "                    learning_rate = 'adaptive',\n",
    "                    learning_rate_init = 0.002)\n",
    "ann.fit(X_train, y_train)"
   ]
  },
  {
   "cell_type": "code",
   "execution_count": 5,
   "metadata": {
    "collapsed": true
   },
   "outputs": [],
   "source": [
    "y_predict = ann.predict(X_test)"
   ]
  },
  {
   "cell_type": "code",
   "execution_count": 6,
   "metadata": {},
   "outputs": [
    {
     "name": "stdout",
     "output_type": "stream",
     "text": [
      "Accuracy score: 0.88\n"
     ]
    }
   ],
   "source": [
    "score = accuracy_score(y_test, y_predict)\n",
    "print(\"Accuracy score: %0.2f\" % score)"
   ]
  },
  {
   "cell_type": "code",
   "execution_count": 7,
   "metadata": {},
   "outputs": [
    {
     "data": {
      "text/plain": [
       "Predicted  Eight  Five  Four  Nine  One  Seven  Six  Three  Two  Zero  __all__\n",
       "Actual                                                                        \n",
       "Eight        399    31     9     9   10      1    2     41    5     6      513\n",
       "Five          16   418     3     6   11      3    5     29    4    18      513\n",
       "Four          12     5   429    31    4      1   10      0   10    11      513\n",
       "Nine           6     5    17   460    1     18    0      4    0     2      513\n",
       "One            9     6     1     8  469      5    3      8    1     3      513\n",
       "Seven          5     2     3    22    4    474    0      0    1     2      513\n",
       "Six            6     3     6     0    2      0  483      2    5     6      513\n",
       "Three          7    25     3     3    7     10    0    448    5     5      513\n",
       "Two           13     7     6     1    1      0    7     17  456     5      513\n",
       "Zero           6    10     5     0    3      4    1      2    2   480      513\n",
       "__all__      479   512   482   540  512    516  511    551  489   538     5130"
      ]
     },
     "execution_count": 7,
     "metadata": {},
     "output_type": "execute_result"
    }
   ],
   "source": [
    "ConfusionMatrix(y_test, y_predict)\n"
   ]
  },
  {
   "cell_type": "code",
   "execution_count": 54,
   "metadata": {},
   "outputs": [
    {
     "name": "stdout",
     "output_type": "stream",
     "text": [
      "             precision    recall  f1-score   support\n",
      "\n",
      "      Eight       0.88      0.77      0.82       513\n",
      "       Five       0.84      0.83      0.83       513\n",
      "       Four       0.87      0.86      0.87       513\n",
      "       Nine       0.88      0.87      0.87       513\n",
      "        One       0.90      0.93      0.92       513\n",
      "      Seven       0.86      0.93      0.90       513\n",
      "        Six       0.94      0.93      0.93       513\n",
      "      Three       0.82      0.85      0.83       513\n",
      "        Two       0.87      0.89      0.88       513\n",
      "       Zero       0.93      0.94      0.93       513\n",
      "\n",
      "avg / total       0.88      0.88      0.88      5130\n",
      "\n"
     ]
    }
   ],
   "source": [
    "report = classification_report(y_test,y_predict)\n",
    "print(report)"
   ]
  },
  {
   "cell_type": "markdown",
   "metadata": {},
   "source": [
    "#### Calculating the optimum Number of nodes"
   ]
  },
  {
   "cell_type": "code",
   "execution_count": 8,
   "metadata": {
    "collapsed": true
   },
   "outputs": [],
   "source": [
    "# create a new ann classifier\n",
    "ann = MLPClassifier(activation='logistic',\n",
    "                    solver='adam',\n",
    "                    alpha=1e-5,\n",
    "                    max_iter=2000,\n",
    "                    random_state=1,\n",
    "                    learning_rate_init = 0.002)\n",
    "\n",
    "# set neurons of hidden layer to numbers between 50 and 200\n",
    "params = { 'hidden_layer_sizes' : [[i] for i in range(50, 200)] }"
   ]
  },
  {
   "cell_type": "code",
   "execution_count": 9,
   "metadata": {
    "collapsed": true
   },
   "outputs": [],
   "source": [
    "# setup grid search and cross validation\n",
    "CV_ann = GridSearchCV(estimator=ann, param_grid=params, cv=10, scoring='accuracy')"
   ]
  },
  {
   "cell_type": "code",
   "execution_count": 10,
   "metadata": {
    "collapsed": true
   },
   "outputs": [],
   "source": [
    "CV_ann.fit(X_train, y_train);\n"
   ]
  },
  {
   "cell_type": "code",
   "execution_count": 11,
   "metadata": {},
   "outputs": [
    {
     "name": "stdout",
     "output_type": "stream",
     "text": [
      "184\n"
     ]
    }
   ],
   "source": [
    "#Best number of neurons\n",
    "best_neurons = CV_ann.best_params_['hidden_layer_sizes'][0]\n",
    "print(best_neurons)"
   ]
  },
  {
   "cell_type": "code",
   "execution_count": 12,
   "metadata": {
    "collapsed": true
   },
   "outputs": [],
   "source": [
    "ann = MLPClassifier(hidden_layer_sizes=(184,),\n",
    "                    activation='logistic',\n",
    "                    solver='adam',\n",
    "                    alpha=1e-5,\n",
    "                    max_iter=2000,\n",
    "                    random_state=1,\n",
    "                    learning_rate_init = 0.002)\n",
    "ann.fit(X_train, y_train)\n",
    "y_predict = ann.predict(X_test)"
   ]
  },
  {
   "cell_type": "code",
   "execution_count": 13,
   "metadata": {},
   "outputs": [
    {
     "name": "stdout",
     "output_type": "stream",
     "text": [
      "Accuracy score: 0.91\n"
     ]
    }
   ],
   "source": [
    "score = accuracy_score(y_test, y_predict)\n",
    "print(\"Accuracy score: %0.2f\" % score)"
   ]
  },
  {
   "cell_type": "code",
   "execution_count": 14,
   "metadata": {},
   "outputs": [
    {
     "data": {
      "text/plain": [
       "Predicted  Eight  Five  Four  Nine  One  Seven  Six  Three  Two  Zero  __all__\n",
       "Actual                                                                        \n",
       "Eight        427     9    13     6   12      2    3     30    5     6      513\n",
       "Five           1   451     6     6    7      1    4     19    4    14      513\n",
       "Four           5     7   437    39    1      0    7      2   10     5      513\n",
       "Nine           5     3     8   473    1     17    0      4    0     2      513\n",
       "One            9     4     0     4  490      0    1      2    1     2      513\n",
       "Seven          1     1     3    11    5    483    0      4    4     1      513\n",
       "Six            4     4     6     0    3      0  486      0    4     6      513\n",
       "Three          6    13     1     8    7      5    0    462    7     4      513\n",
       "Two           12     3     3     1    1      0    7     14  468     4      513\n",
       "Zero           3     3     2     1    2      4    0      4    2   492      513\n",
       "__all__      473   498   479   549  529    512  508    541  505   536     5130"
      ]
     },
     "execution_count": 14,
     "metadata": {},
     "output_type": "execute_result"
    }
   ],
   "source": [
    "ConfusionMatrix(y_test, y_predict)"
   ]
  },
  {
   "cell_type": "code",
   "execution_count": 53,
   "metadata": {},
   "outputs": [
    {
     "name": "stdout",
     "output_type": "stream",
     "text": [
      "             precision    recall  f1-score   support\n",
      "\n",
      "      Eight       0.88      0.77      0.82       513\n",
      "       Five       0.84      0.83      0.83       513\n",
      "       Four       0.87      0.86      0.87       513\n",
      "       Nine       0.88      0.87      0.87       513\n",
      "        One       0.90      0.93      0.92       513\n",
      "      Seven       0.86      0.93      0.90       513\n",
      "        Six       0.94      0.93      0.93       513\n",
      "      Three       0.82      0.85      0.83       513\n",
      "        Two       0.87      0.89      0.88       513\n",
      "       Zero       0.93      0.94      0.93       513\n",
      "\n",
      "avg / total       0.88      0.88      0.88      5130\n",
      "\n"
     ]
    }
   ],
   "source": [
    "report = classification_report(y_test,y_predict)\n",
    "print(report)"
   ]
  },
  {
   "cell_type": "markdown",
   "metadata": {
    "collapsed": true
   },
   "source": [
    "### ANN Model After PCA"
   ]
  },
  {
   "cell_type": "code",
   "execution_count": 15,
   "metadata": {
    "collapsed": true
   },
   "outputs": [],
   "source": [
    "import numpy as np\n",
    "from sklearn.decomposition import PCA #to generate pca\n",
    "\n",
    "train = np.array(X_train)\n",
    "test = np.array(X_test)\n",
    "\n",
    "#No.of components\n",
    "n_components = 1600\n",
    "pca = PCA(n_components=n_components,svd_solver='randomized').fit(train)\n",
    "s = pca.explained_variance_ratio_\n",
    "sum=0.0\n",
    "comp=0\n",
    "#No.of components required to explain 99% variance\n",
    "for _ in s:\n",
    "    sum += _\n",
    "    comp += 1\n",
    "    if(sum>=0.99):\n",
    "        break\n",
    "n_components = comp\n",
    "\n",
    "\n",
    "#fitting pca\n",
    "pca = PCA(n_components=n_components,svd_solver='randomized').fit(train)\n",
    "\n",
    "#Transforming data\n",
    "xtrain = pca.transform(train)\n",
    "xtest = pca.transform(test)"
   ]
  },
  {
   "cell_type": "code",
   "execution_count": 16,
   "metadata": {},
   "outputs": [
    {
     "name": "stdout",
     "output_type": "stream",
     "text": [
      "Accuracy score: 0.88\n"
     ]
    },
    {
     "data": {
      "text/plain": [
       "Predicted  Eight  Five  Four  Nine  One  Seven  Six  Three  Two  Zero  __all__\n",
       "Actual                                                                        \n",
       "Eight        394    34    19    10   14      7    2     20    6     7      513\n",
       "Five           5   412    12     3   16      6   12     34    5     8      513\n",
       "Four           9     5   444    18    1      2   11      2   14     7      513\n",
       "Nine           6     3    16   443    4     25    0     11    4     1      513\n",
       "One            2     3     3     4  492      2    0      3    3     1      513\n",
       "Seven          2     3     6     9    8    481    0      1    3     0      513\n",
       "Six            5     6     9     0    5      0  478      0    5     5      513\n",
       "Three          9    17     7     3    9     14    0    444    7     3      513\n",
       "Two           11     5    13     1    0      2    4     15  456     6      513\n",
       "Zero           3     5     4     0    0      7    5      2    5   482      513\n",
       "__all__      446   493   533   491  549    546  512    532  508   520     5130"
      ]
     },
     "execution_count": 16,
     "metadata": {},
     "output_type": "execute_result"
    }
   ],
   "source": [
    "ann = MLPClassifier(hidden_layer_sizes=(184,),\n",
    "                    activation='logistic',\n",
    "                    solver='adam',\n",
    "                    alpha=1e-5,\n",
    "                    max_iter=2000,\n",
    "                    random_state=1,\n",
    "                    learning_rate = 'adaptive',\n",
    "                    learning_rate_init = 0.002)\n",
    "ann.fit(xtrain, y_train)\n",
    "y_predict = ann.predict(xtest)\n",
    "score = accuracy_score(y_test, y_predict)\n",
    "print(\"Accuracy score: %0.2f\" % score)\n",
    "ConfusionMatrix(y_test, y_predict)"
   ]
  },
  {
   "cell_type": "code",
   "execution_count": null,
   "metadata": {
    "collapsed": true
   },
   "outputs": [],
   "source": [
    "report = classification_report(y_test,y_predict)\n",
    "print(report)"
   ]
  },
  {
   "cell_type": "code",
   "execution_count": 17,
   "metadata": {},
   "outputs": [
    {
     "name": "stdout",
     "output_type": "stream",
     "text": [
      "156\n"
     ]
    }
   ],
   "source": [
    "# create a new ann classifier\n",
    "ann = MLPClassifier(activation='logistic',\n",
    "                    solver='adam',\n",
    "                    alpha=1e-5,\n",
    "                    max_iter=2000,\n",
    "                    random_state=1,\n",
    "                    learning_rate_init = 0.002)\n",
    "\n",
    "# set neurons of hidden layer to numbers between 50 and 200\n",
    "params = { 'hidden_layer_sizes' : [[i] for i in range(50, 200)] }\n",
    "# setup grid search and cross validation\n",
    "CV_ann = GridSearchCV(estimator=ann, param_grid=params, cv=10, scoring='accuracy')\n",
    "CV_ann.fit(xtrain, y_train);\n",
    "best_neurons = CV_ann.best_params_['hidden_layer_sizes'][0]\n",
    "print(best_neurons)"
   ]
  },
  {
   "cell_type": "code",
   "execution_count": 18,
   "metadata": {},
   "outputs": [
    {
     "name": "stdout",
     "output_type": "stream",
     "text": [
      "Accuracy score: 0.89\n"
     ]
    },
    {
     "data": {
      "text/plain": [
       "Predicted  Eight  Five  Four  Nine  One  Seven  Six  Three  Two  Zero  __all__\n",
       "Actual                                                                        \n",
       "Eight        409    36    13     8    7      6    3     20    5     6      513\n",
       "Five           9   419     7     6   12      8    9     32    5     6      513\n",
       "Four          11     5   431    34    2      2    8      4   13     3      513\n",
       "Nine           3     5    13   455    2     18    0     11    2     4      513\n",
       "One           10     3     6     7  481      0    0      5    1     0      513\n",
       "Seven          1     1     7    14    5    480    0      4    0     1      513\n",
       "Six            4     5     9     0    7      0  480      0    4     4      513\n",
       "Three          7    20     6     3    3     11    1    453    8     1      513\n",
       "Two           17     3     8     1    0      1    6     20  451     6      513\n",
       "Zero           3     6     3     0    2      5    1      4    1   488      513\n",
       "__all__      474   503   503   528  521    531  508    553  490   519     5130"
      ]
     },
     "execution_count": 18,
     "metadata": {},
     "output_type": "execute_result"
    }
   ],
   "source": [
    "ann = MLPClassifier(hidden_layer_sizes=(best_neurons,),\n",
    "                    activation='logistic',\n",
    "                    solver='adam',\n",
    "                    alpha=1e-5,\n",
    "                    max_iter=2000,\n",
    "                    random_state=1,\n",
    "                    learning_rate = 'adaptive',\n",
    "                    learning_rate_init = 0.002)\n",
    "ann.fit(xtrain, y_train)\n",
    "y_predict = ann.predict(xtest)\n",
    "score = accuracy_score(y_test, y_predict)\n",
    "print(\"Accuracy score: %0.2f\" % score)\n",
    "ConfusionMatrix(y_test, y_predict)"
   ]
  },
  {
   "cell_type": "code",
   "execution_count": 38,
   "metadata": {},
   "outputs": [
    {
     "name": "stdout",
     "output_type": "stream",
     "text": [
      "             precision    recall  f1-score   support\n",
      "\n",
      "      Eight       0.87      0.79      0.83       513\n",
      "       Five       0.86      0.81      0.84       513\n",
      "       Four       0.85      0.85      0.85       513\n",
      "       Nine       0.87      0.87      0.87       513\n",
      "        One       0.89      0.95      0.92       513\n",
      "      Seven       0.89      0.95      0.92       513\n",
      "        Six       0.94      0.92      0.93       513\n",
      "      Three       0.84      0.85      0.85       513\n",
      "        Two       0.88      0.88      0.88       513\n",
      "       Zero       0.92      0.96      0.94       513\n",
      "\n",
      "avg / total       0.88      0.88      0.88      5130\n",
      "\n"
     ]
    }
   ],
   "source": [
    "report = classification_report(y_test,y_predict)\n",
    "print(report)"
   ]
  },
  {
   "cell_type": "markdown",
   "metadata": {},
   "source": [
    "### 100x100 Pixel Images"
   ]
  },
  {
   "cell_type": "code",
   "execution_count": 39,
   "metadata": {},
   "outputs": [],
   "source": [
    "os.chdir(\"C:/Users/Sanjeev Varma/Desktop/Capstone/Signature Recognition/Data\")\n",
    "label_train = pd.read_csv('train100.csv')\n",
    "y_train = label_train['Label']\n",
    "label_test = pd.read_csv('test100.csv')\n",
    "y_test = label_test['Label']"
   ]
  },
  {
   "cell_type": "code",
   "execution_count": 40,
   "metadata": {
    "collapsed": true
   },
   "outputs": [],
   "source": [
    "X_train = label_train.iloc[:,1:10001]\n",
    "X_test = label_test.iloc[:,1:10001]"
   ]
  },
  {
   "cell_type": "code",
   "execution_count": 41,
   "metadata": {},
   "outputs": [
    {
     "name": "stdout",
     "output_type": "stream",
     "text": [
      "Accuracy score: 0.84\n"
     ]
    },
    {
     "data": {
      "text/plain": [
       "Predicted  Eight  Five  Four  Nine  One  Seven  Six  Three  Two  Zero  __all__\n",
       "Actual                                                                        \n",
       "Eight        398    27    20     8    5      2    7     21    6    19      513\n",
       "Five          27   379    12     5   12      3   12     37    7    19      513\n",
       "Four          19     4   396    45    0      1   18      3   10    17      513\n",
       "Nine          17     1    37   389    1     38    0     24    1     5      513\n",
       "One           22     2     5     4  443      4    4     20    3     6      513\n",
       "Seven          4     0     8    14    9    470    0      3    4     1      513\n",
       "Six            6     4     9     0    4      0  472      1   10     7      513\n",
       "Three         15    23     3     4    2      6    1    438   13     8      513\n",
       "Two           16     8     8     2    1      2   14     13  443     6      513\n",
       "Zero           7     5    10     1    2      5    7      5    1   470      513\n",
       "__all__      531   453   508   472  479    531  535    565  498   558     5130"
      ]
     },
     "execution_count": 41,
     "metadata": {},
     "output_type": "execute_result"
    }
   ],
   "source": [
    "ann = MLPClassifier(hidden_layer_sizes=(189,),\n",
    "                    activation='logistic',\n",
    "                    solver='adam',\n",
    "                    alpha=1e-5,\n",
    "                    max_iter=2000,\n",
    "                    random_state=1,\n",
    "                    learning_rate_init = 0.002)\n",
    "ann.fit(X_train, y_train)\n",
    "y_predict = ann.predict(X_test)\n",
    "score = accuracy_score(y_test, y_predict)\n",
    "print(\"Accuracy score: %0.2f\" % score)\n",
    "ConfusionMatrix(y_test, y_predict)"
   ]
  },
  {
   "cell_type": "code",
   "execution_count": 42,
   "metadata": {},
   "outputs": [
    {
     "name": "stdout",
     "output_type": "stream",
     "text": [
      "             precision    recall  f1-score   support\n",
      "\n",
      "      Eight       0.75      0.78      0.76       513\n",
      "       Five       0.84      0.74      0.78       513\n",
      "       Four       0.78      0.77      0.78       513\n",
      "       Nine       0.82      0.76      0.79       513\n",
      "        One       0.92      0.86      0.89       513\n",
      "      Seven       0.89      0.92      0.90       513\n",
      "        Six       0.88      0.92      0.90       513\n",
      "      Three       0.78      0.85      0.81       513\n",
      "        Two       0.89      0.86      0.88       513\n",
      "       Zero       0.84      0.92      0.88       513\n",
      "\n",
      "avg / total       0.84      0.84      0.84      5130\n",
      "\n"
     ]
    }
   ],
   "source": [
    "report = classification_report(y_test,y_predict)\n",
    "print(report)"
   ]
  },
  {
   "cell_type": "code",
   "execution_count": 43,
   "metadata": {},
   "outputs": [
    {
     "name": "stdout",
     "output_type": "stream",
     "text": [
      "197\n"
     ]
    }
   ],
   "source": [
    "# create a new ann classifier\n",
    "ann = MLPClassifier(activation='logistic',\n",
    "                    solver='adam',\n",
    "                    alpha=1e-5,\n",
    "                    max_iter=2000,\n",
    "                    random_state=1,\n",
    "                    learning_rate_init = 0.002)\n",
    "\n",
    "# set neurons of hidden layer to numbers between 50 and 200\n",
    "params = { 'hidden_layer_sizes' : [[i] for i in range(50, 200)] }\n",
    "# setup grid search and cross validation\n",
    "CV_ann = GridSearchCV(estimator=ann, param_grid=params, cv=10, scoring='accuracy')\n",
    "CV_ann.fit(xtrain, y_train);\n",
    "best_neurons = CV_ann.best_params_['hidden_layer_sizes'][0]\n",
    "print(best_neurons)"
   ]
  },
  {
   "cell_type": "code",
   "execution_count": 23,
   "metadata": {},
   "outputs": [
    {
     "name": "stdout",
     "output_type": "stream",
     "text": [
      "Accuracy score: 0.80\n"
     ]
    },
    {
     "data": {
      "text/plain": [
       "Predicted  Eight  Five  Four  Nine  One  Seven  Six  Three  Two  Zero  __all__\n",
       "Actual                                                                        \n",
       "Eight        306    38    12    23   25      6    5     46   34    18      513\n",
       "Five          19   356    16    10   10      1   17     59   10    15      513\n",
       "Four          10     3   379    74    1      1    8      3   21    13      513\n",
       "Nine           9     6    35   406    0     42    0     12    3     0      513\n",
       "One           28     4    10     9  430     14    3      5    3     7      513\n",
       "Seven          4     0     9    38    4    450    0      1    5     2      513\n",
       "Six            5     2     6     0    7      0  464      1   24     4      513\n",
       "Three          3    15     9    11   12      7    0    430   21     5      513\n",
       "Two            9     6     7     0    5      2   15     10  453     6      513\n",
       "Zero           0     7    11     3    7      4    4      4   24   449      513\n",
       "__all__      393   437   494   574  501    527  516    571  598   519     5130"
      ]
     },
     "execution_count": 23,
     "metadata": {},
     "output_type": "execute_result"
    }
   ],
   "source": [
    "ann = MLPClassifier(hidden_layer_sizes=(best_neurons,),\n",
    "                    activation='logistic',\n",
    "                    solver='adam',\n",
    "                    alpha=1e-5,\n",
    "                    max_iter=2000,\n",
    "                    random_state=1,\n",
    "                    learning_rate_init = 0.002)\n",
    "ann.fit(X_train, y_train)\n",
    "y_predict = ann.predict(X_test)\n",
    "score = accuracy_score(y_test, y_predict)\n",
    "print(\"Accuracy score: %0.2f\" % score)\n",
    "ConfusionMatrix(y_test, y_predict)"
   ]
  },
  {
   "cell_type": "code",
   "execution_count": 44,
   "metadata": {},
   "outputs": [
    {
     "name": "stdout",
     "output_type": "stream",
     "text": [
      "             precision    recall  f1-score   support\n",
      "\n",
      "      Eight       0.75      0.78      0.76       513\n",
      "       Five       0.84      0.74      0.78       513\n",
      "       Four       0.78      0.77      0.78       513\n",
      "       Nine       0.82      0.76      0.79       513\n",
      "        One       0.92      0.86      0.89       513\n",
      "      Seven       0.89      0.92      0.90       513\n",
      "        Six       0.88      0.92      0.90       513\n",
      "      Three       0.78      0.85      0.81       513\n",
      "        Two       0.89      0.86      0.88       513\n",
      "       Zero       0.84      0.92      0.88       513\n",
      "\n",
      "avg / total       0.84      0.84      0.84      5130\n",
      "\n"
     ]
    }
   ],
   "source": [
    "report = classification_report(y_test,y_predict)\n",
    "print(report)"
   ]
  },
  {
   "cell_type": "markdown",
   "metadata": {},
   "source": [
    "### PCA "
   ]
  },
  {
   "cell_type": "code",
   "execution_count": 24,
   "metadata": {
    "collapsed": true
   },
   "outputs": [],
   "source": [
    "import numpy as np\n",
    "from sklearn.decomposition import PCA\n",
    "train = np.array(X_train)\n",
    "n_components = 2000\n",
    "pca = PCA(n_components=n_components,svd_solver='randomized').fit(train)\n",
    "s = pca.explained_variance_ratio_\n",
    "sum=0.0\n",
    "comp=0\n",
    "\n",
    "for _ in s:\n",
    "    sum += _\n",
    "    comp += 1\n",
    "    if(sum>=0.99):\n",
    "        break\n",
    "train = np.array(X_train)\n",
    "test = np.array(X_test)\n",
    "\n",
    "n_components = comp\n",
    "\n",
    "#fitting pca\n",
    "pca = PCA(n_components=n_components,svd_solver='randomized').fit(train)\n",
    "\n",
    "xtrain = pca.transform(train)\n",
    "xtest = pca.transform(test)"
   ]
  },
  {
   "cell_type": "code",
   "execution_count": 25,
   "metadata": {},
   "outputs": [
    {
     "name": "stdout",
     "output_type": "stream",
     "text": [
      "Accuracy score: 0.85\n"
     ]
    },
    {
     "data": {
      "text/plain": [
       "Predicted  Eight  Five  Four  Nine  One  Seven  Six  Three  Two  Zero  __all__\n",
       "Actual                                                                        \n",
       "Eight        384    27    24    16   15      4    4     23    8     8      513\n",
       "Five          13   406    12     6   14      6   11     25    5    15      513\n",
       "Four          16     8   424    28    2      2    7      2   17     7      513\n",
       "Nine           9    10    25   419    4     33    0      8    2     3      513\n",
       "One           10     7     4     2  471      3    2     12    0     2      513\n",
       "Seven          4     3     2    20    6    464    1      4    7     2      513\n",
       "Six            5     8    19     0    5      0  462      2    8     4      513\n",
       "Three         13    23    11     5   10     11    0    427   11     2      513\n",
       "Two           24     7    14     1    3      6    8     16  426     8      513\n",
       "Zero           5    11     6     0    3      5    6      3    4   470      513\n",
       "__all__      483   510   541   497  533    534  501    522  488   521     5130"
      ]
     },
     "execution_count": 25,
     "metadata": {},
     "output_type": "execute_result"
    }
   ],
   "source": [
    "ann = MLPClassifier(hidden_layer_sizes=(189,),\n",
    "                    activation='logistic',\n",
    "                    solver='adam',\n",
    "                    alpha=1e-5,\n",
    "                    max_iter=2000,\n",
    "                    random_state=1,\n",
    "                    learning_rate_init = 0.002)\n",
    "ann.fit(xtrain, y_train)\n",
    "y_predict = ann.predict(xtest)\n",
    "score = accuracy_score(y_test, y_predict)\n",
    "print(\"Accuracy score: %0.2f\" % score)\n",
    "ConfusionMatrix(y_test, y_predict)"
   ]
  },
  {
   "cell_type": "code",
   "execution_count": 45,
   "metadata": {},
   "outputs": [
    {
     "name": "stdout",
     "output_type": "stream",
     "text": [
      "             precision    recall  f1-score   support\n",
      "\n",
      "      Eight       0.75      0.78      0.76       513\n",
      "       Five       0.84      0.74      0.78       513\n",
      "       Four       0.78      0.77      0.78       513\n",
      "       Nine       0.82      0.76      0.79       513\n",
      "        One       0.92      0.86      0.89       513\n",
      "      Seven       0.89      0.92      0.90       513\n",
      "        Six       0.88      0.92      0.90       513\n",
      "      Three       0.78      0.85      0.81       513\n",
      "        Two       0.89      0.86      0.88       513\n",
      "       Zero       0.84      0.92      0.88       513\n",
      "\n",
      "avg / total       0.84      0.84      0.84      5130\n",
      "\n"
     ]
    }
   ],
   "source": [
    "report = classification_report(y_test,y_predict)\n",
    "print(report)"
   ]
  },
  {
   "cell_type": "code",
   "execution_count": 26,
   "metadata": {},
   "outputs": [
    {
     "name": "stdout",
     "output_type": "stream",
     "text": [
      "143\n"
     ]
    }
   ],
   "source": [
    "# create a new ann classifier\n",
    "ann = MLPClassifier(activation='logistic',\n",
    "                    solver='adam',\n",
    "                    alpha=1e-5,\n",
    "                    max_iter=2000,\n",
    "                    random_state=1,\n",
    "                    learning_rate_init = 0.002)\n",
    "\n",
    "# set neurons of hidden layer to numbers between 50 and 200\n",
    "params = { 'hidden_layer_sizes' : [[i] for i in range(50, 200)] }\n",
    "# setup grid search and cross validation\n",
    "CV_ann = GridSearchCV(estimator=ann, param_grid=params, cv=10, scoring='accuracy')\n",
    "CV_ann.fit(xtrain, y_train);\n",
    "best_neurons = CV_ann.best_params_['hidden_layer_sizes'][0]\n",
    "print(best_neurons)"
   ]
  },
  {
   "cell_type": "code",
   "execution_count": 27,
   "metadata": {},
   "outputs": [
    {
     "name": "stdout",
     "output_type": "stream",
     "text": [
      "Accuracy score: 0.85\n"
     ]
    },
    {
     "data": {
      "text/plain": [
       "Predicted  Eight  Five  Four  Nine  One  Seven  Six  Three  Two  Zero  __all__\n",
       "Actual                                                                        \n",
       "Eight        391    26    22    15   10      8    2     22   12     5      513\n",
       "Five          12   402     8     8   13      9   15     30    6    10      513\n",
       "Four           7    12   428    29    3      3   10      3   13     5      513\n",
       "Nine          14     2    33   420    2     26    0     11    2     3      513\n",
       "One           11     2     9     8  468      7    1      3    2     2      513\n",
       "Seven          5     4     2    11    6    476    0      3    3     3      513\n",
       "Six            3    10    17     0   10      0  456      0    9     8      513\n",
       "Three         15    22     6     8    7     16    4    418   10     7      513\n",
       "Two           20     6     9     0    3      5    7     19  439     5      513\n",
       "Zero           5     7     7     1    3      4    2     10    3   471      513\n",
       "__all__      483   493   541   500  525    554  497    519  499   519     5130"
      ]
     },
     "execution_count": 27,
     "metadata": {},
     "output_type": "execute_result"
    }
   ],
   "source": [
    "ann = MLPClassifier(hidden_layer_sizes=(best_neurons,),\n",
    "                    activation='logistic',\n",
    "                    solver='adam',\n",
    "                    alpha=1e-5,\n",
    "                    max_iter=2000,\n",
    "                    random_state=1,\n",
    "                    learning_rate_init = 0.002)\n",
    "ann.fit(xtrain, y_train)\n",
    "y_predict = ann.predict(xtest)\n",
    "score = accuracy_score(y_test, y_predict)\n",
    "print(\"Accuracy score: %0.2f\" % score)\n",
    "ConfusionMatrix(y_test, y_predict)"
   ]
  },
  {
   "cell_type": "code",
   "execution_count": 46,
   "metadata": {},
   "outputs": [
    {
     "name": "stdout",
     "output_type": "stream",
     "text": [
      "             precision    recall  f1-score   support\n",
      "\n",
      "      Eight       0.75      0.78      0.76       513\n",
      "       Five       0.84      0.74      0.78       513\n",
      "       Four       0.78      0.77      0.78       513\n",
      "       Nine       0.82      0.76      0.79       513\n",
      "        One       0.92      0.86      0.89       513\n",
      "      Seven       0.89      0.92      0.90       513\n",
      "        Six       0.88      0.92      0.90       513\n",
      "      Three       0.78      0.85      0.81       513\n",
      "        Two       0.89      0.86      0.88       513\n",
      "       Zero       0.84      0.92      0.88       513\n",
      "\n",
      "avg / total       0.84      0.84      0.84      5130\n",
      "\n"
     ]
    }
   ],
   "source": [
    "report = classification_report(y_test,y_predict)\n",
    "print(report)"
   ]
  },
  {
   "cell_type": "markdown",
   "metadata": {},
   "source": [
    "### Reverse the Integers"
   ]
  },
  {
   "cell_type": "code",
   "execution_count": 28,
   "metadata": {
    "collapsed": true
   },
   "outputs": [],
   "source": [
    "os.chdir(\"C:/Users/Sanjeev Varma/Desktop/Capstone/Signature Recognition/Data\")\n",
    "label_train = pd.read_csv('trainzero.csv')\n",
    "y_train = label_train['Label']\n",
    "label_test = pd.read_csv('testzero.csv')\n",
    "y_test = label_test['Label']"
   ]
  },
  {
   "cell_type": "code",
   "execution_count": 29,
   "metadata": {
    "collapsed": true
   },
   "outputs": [],
   "source": [
    "X_train = label_train.iloc[:,1:1601]\n",
    "X_test = label_test.iloc[:,1:1601]"
   ]
  },
  {
   "cell_type": "code",
   "execution_count": 30,
   "metadata": {},
   "outputs": [
    {
     "name": "stdout",
     "output_type": "stream",
     "text": [
      "Accuracy score: 0.10\n"
     ]
    }
   ],
   "source": [
    "ann = MLPClassifier(hidden_layer_sizes=(189,),\n",
    "                    activation='logistic',\n",
    "                    solver='adam',\n",
    "                    alpha=1e-5,\n",
    "                    max_iter=2000,\n",
    "                    random_state=1,\n",
    "                    learning_rate_init = 0.002)\n",
    "ann.fit(X_train, y_train)\n",
    "y_predict = ann.predict(X_test)\n",
    "score = accuracy_score(y_test, y_predict)\n",
    "print(\"Accuracy score: %0.2f\" % score)"
   ]
  },
  {
   "cell_type": "code",
   "execution_count": 47,
   "metadata": {},
   "outputs": [
    {
     "name": "stdout",
     "output_type": "stream",
     "text": [
      "             precision    recall  f1-score   support\n",
      "\n",
      "      Eight       0.75      0.78      0.76       513\n",
      "       Five       0.84      0.74      0.78       513\n",
      "       Four       0.78      0.77      0.78       513\n",
      "       Nine       0.82      0.76      0.79       513\n",
      "        One       0.92      0.86      0.89       513\n",
      "      Seven       0.89      0.92      0.90       513\n",
      "        Six       0.88      0.92      0.90       513\n",
      "      Three       0.78      0.85      0.81       513\n",
      "        Two       0.89      0.86      0.88       513\n",
      "       Zero       0.84      0.92      0.88       513\n",
      "\n",
      "avg / total       0.84      0.84      0.84      5130\n",
      "\n"
     ]
    }
   ],
   "source": [
    "report = classification_report(y_test,y_predict)\n",
    "print(report)"
   ]
  },
  {
   "cell_type": "code",
   "execution_count": 31,
   "metadata": {},
   "outputs": [
    {
     "name": "stdout",
     "output_type": "stream",
     "text": [
      "50\n"
     ]
    }
   ],
   "source": [
    "# create a new ann classifier\n",
    "ann = MLPClassifier(activation='logistic',\n",
    "                    solver='adam',\n",
    "                    alpha=1e-5,\n",
    "                    max_iter=2000,\n",
    "                    random_state=1,\n",
    "                    learning_rate_init = 0.002)\n",
    "\n",
    "# set neurons of hidden layer to numbers between 50 and 200\n",
    "params = { 'hidden_layer_sizes' : [[i] for i in range(50, 200)] }\n",
    "# setup grid search and cross validation\n",
    "CV_ann = GridSearchCV(estimator=ann, param_grid=params, cv=10, scoring='accuracy')\n",
    "CV_ann.fit(X_train, y_train);\n",
    "best_neurons = CV_ann.best_params_['hidden_layer_sizes'][0]\n",
    "print(best_neurons)"
   ]
  },
  {
   "cell_type": "code",
   "execution_count": 32,
   "metadata": {},
   "outputs": [
    {
     "name": "stdout",
     "output_type": "stream",
     "text": [
      "Accuracy score: 0.84\n"
     ]
    },
    {
     "data": {
      "text/plain": [
       "Predicted  Eight  Five  Four  Nine  One  Seven  Six  Three  Two  Zero  __all__\n",
       "Actual                                                                        \n",
       "Eight        380    31    18    17   18      4    2     31    8     4      513\n",
       "Five          15   380    14    11   17      4    9     42    5    16      513\n",
       "Four          17     7   396    44    2      3   15      6   10    13      513\n",
       "Nine          14     4    22   409    4     42    0     10    4     4      513\n",
       "One           12     6     2     6  457      5    5     13    4     3      513\n",
       "Seven          5     4     6    21   10    463    0      2    2     0      513\n",
       "Six            5     4     7     0    7      0  477      1    7     5      513\n",
       "Three         16    24     4     6   10     10    0    428    6     9      513\n",
       "Two           19     3    10     1    2      5   11     19  437     6      513\n",
       "Zero           4     8    10     0    6      5    3      7    4   466      513\n",
       "__all__      487   471   489   515  533    541  522    559  487   526     5130"
      ]
     },
     "execution_count": 32,
     "metadata": {},
     "output_type": "execute_result"
    }
   ],
   "source": [
    "ann = MLPClassifier(hidden_layer_sizes=(best_neurons,),\n",
    "                    activation='logistic',\n",
    "                    solver='adam',\n",
    "                    alpha=1e-5,\n",
    "                    max_iter=2000,\n",
    "                    random_state=1,\n",
    "                    learning_rate_init = 0.002)\n",
    "ann.fit(xtrain, y_train)\n",
    "y_predict = ann.predict(xtest)\n",
    "score = accuracy_score(y_test, y_predict)\n",
    "print(\"Accuracy score: %0.2f\" % score)\n",
    "ConfusionMatrix(y_test, y_predict)"
   ]
  },
  {
   "cell_type": "code",
   "execution_count": 48,
   "metadata": {},
   "outputs": [
    {
     "name": "stdout",
     "output_type": "stream",
     "text": [
      "             precision    recall  f1-score   support\n",
      "\n",
      "      Eight       0.75      0.78      0.76       513\n",
      "       Five       0.84      0.74      0.78       513\n",
      "       Four       0.78      0.77      0.78       513\n",
      "       Nine       0.82      0.76      0.79       513\n",
      "        One       0.92      0.86      0.89       513\n",
      "      Seven       0.89      0.92      0.90       513\n",
      "        Six       0.88      0.92      0.90       513\n",
      "      Three       0.78      0.85      0.81       513\n",
      "        Two       0.89      0.86      0.88       513\n",
      "       Zero       0.84      0.92      0.88       513\n",
      "\n",
      "avg / total       0.84      0.84      0.84      5130\n",
      "\n"
     ]
    }
   ],
   "source": [
    "report = classification_report(y_test,y_predict)\n",
    "print(report)"
   ]
  },
  {
   "cell_type": "markdown",
   "metadata": {
    "collapsed": true
   },
   "source": [
    "### PCA"
   ]
  },
  {
   "cell_type": "code",
   "execution_count": 34,
   "metadata": {},
   "outputs": [],
   "source": [
    "import numpy as np\n",
    "from sklearn.decomposition import PCA\n",
    "\n",
    "train = np.array(X_train)\n",
    "n_components = 1600\n",
    "pca = PCA(n_components=n_components,svd_solver='randomized').fit(train)\n",
    "s = pca.explained_variance_ratio_\n",
    "sum=0.0\n",
    "comp=0\n",
    "\n",
    "for _ in s:\n",
    "    sum += _\n",
    "    comp += 1\n",
    "    if(sum>=0.99):\n",
    "        break\n",
    "\n",
    "test = np.array(X_test)\n",
    "\n",
    "n_components = comp\n",
    "\n",
    "#fitting pca\n",
    "pca = PCA(n_components=n_components,svd_solver='randomized').fit(train)\n",
    "\n",
    "xtrain = pca.transform(train)\n",
    "xtest = pca.transform(test)"
   ]
  },
  {
   "cell_type": "code",
   "execution_count": 35,
   "metadata": {},
   "outputs": [
    {
     "name": "stdout",
     "output_type": "stream",
     "text": [
      "Accuracy score: 0.88\n"
     ]
    },
    {
     "data": {
      "text/plain": [
       "Predicted  Eight  Five  Four  Nine  One  Seven  Six  Three  Two  Zero  __all__\n",
       "Actual                                                                        \n",
       "Eight        407    21    18    12   10      3    5     24    7     6      513\n",
       "Five          10   417    10     5   17      4    9     21    8    12      513\n",
       "Four           6     6   434    25    5      1   10      4   16     6      513\n",
       "Nine           8     4    11   444    5     29    0      5    3     4      513\n",
       "One            3     4     2     6  487      2    1      2    4     2      513\n",
       "Seven          2     0     5     9    7    486    0      1    1     2      513\n",
       "Six            3     6    12     1    5      0  474      2    7     3      513\n",
       "Three         11    18     6     6    8     11    0    436   10     7      513\n",
       "Two           16     5     8     1    2      5    4     20  450     2      513\n",
       "Zero           1     4     2     0    3      6    1      2    4   490      513\n",
       "__all__      467   485   508   509  549    547  504    517  510   534     5130"
      ]
     },
     "execution_count": 35,
     "metadata": {},
     "output_type": "execute_result"
    }
   ],
   "source": [
    "ann = MLPClassifier(hidden_layer_sizes=(189,),\n",
    "                    activation='logistic',\n",
    "                    solver='adam',\n",
    "                    alpha=1e-5,\n",
    "                    max_iter=2000,\n",
    "                    random_state=1,\n",
    "                    learning_rate_init = 0.002)\n",
    "ann.fit(xtrain, y_train)\n",
    "y_predict = ann.predict(xtest)\n",
    "score = accuracy_score(y_test, y_predict)\n",
    "print(\"Accuracy score: %0.2f\" % score)\n",
    "ConfusionMatrix(y_test, y_predict)"
   ]
  },
  {
   "cell_type": "code",
   "execution_count": 49,
   "metadata": {},
   "outputs": [
    {
     "name": "stdout",
     "output_type": "stream",
     "text": [
      "             precision    recall  f1-score   support\n",
      "\n",
      "      Eight       0.75      0.78      0.76       513\n",
      "       Five       0.84      0.74      0.78       513\n",
      "       Four       0.78      0.77      0.78       513\n",
      "       Nine       0.82      0.76      0.79       513\n",
      "        One       0.92      0.86      0.89       513\n",
      "      Seven       0.89      0.92      0.90       513\n",
      "        Six       0.88      0.92      0.90       513\n",
      "      Three       0.78      0.85      0.81       513\n",
      "        Two       0.89      0.86      0.88       513\n",
      "       Zero       0.84      0.92      0.88       513\n",
      "\n",
      "avg / total       0.84      0.84      0.84      5130\n",
      "\n"
     ]
    }
   ],
   "source": [
    "report = classification_report(y_test,y_predict)\n",
    "print(report)"
   ]
  },
  {
   "cell_type": "code",
   "execution_count": 50,
   "metadata": {},
   "outputs": [
    {
     "name": "stdout",
     "output_type": "stream",
     "text": [
      "197\n"
     ]
    }
   ],
   "source": [
    "# create a new ann classifier\n",
    "ann = MLPClassifier(activation='logistic',\n",
    "                    solver='adam',\n",
    "                    alpha=1e-5,\n",
    "                    max_iter=2000,\n",
    "                    random_state=1,\n",
    "                    learning_rate_init = 0.002)\n",
    "\n",
    "# set neurons of hidden layer to numbers between 50 and 200\n",
    "params = { 'hidden_layer_sizes' : [[i] for i in range(50, 200)] }\n",
    "# setup grid search and cross validation\n",
    "CV_ann = GridSearchCV(estimator=ann, param_grid=params, cv=10, scoring='accuracy')\n",
    "CV_ann.fit(xtrain, y_train);\n",
    "best_neurons = CV_ann.best_params_['hidden_layer_sizes'][0]\n",
    "print(best_neurons)"
   ]
  },
  {
   "cell_type": "code",
   "execution_count": 51,
   "metadata": {},
   "outputs": [
    {
     "name": "stdout",
     "output_type": "stream",
     "text": [
      "Accuracy score: 0.88\n"
     ]
    },
    {
     "data": {
      "text/plain": [
       "Predicted  Eight  Five  Four  Nine  One  Seven  Six  Three  Two  Zero  __all__\n",
       "Actual                                                                        \n",
       "Eight        393    31    18     6   13      7    2     23   10    10      513\n",
       "Five           7   424     7     5   12      4   11     28    9     6      513\n",
       "Four          13     3   443    22    4      0    5      4   17     2      513\n",
       "Nine           3     2    11   444    0     35    0     11    4     3      513\n",
       "One            5     6     2     6  479      3    1      5    3     3      513\n",
       "Seven          3     4     2    13    6    479    0      4    1     1      513\n",
       "Six            4     7    10     0    6      0  475      1    7     3      513\n",
       "Three          8    21     7     5    7     18    0    435    8     4      513\n",
       "Two           11     4     8     1    3      5    7     16  455     3      513\n",
       "Zero           2     4     0     0    3      6    3      4   11   480      513\n",
       "__all__      449   506   508   502  533    557  504    531  525   515     5130"
      ]
     },
     "execution_count": 51,
     "metadata": {},
     "output_type": "execute_result"
    }
   ],
   "source": [
    "ann = MLPClassifier(hidden_layer_sizes=(best_neurons,),\n",
    "                    activation='logistic',\n",
    "                    solver='adam',\n",
    "                    alpha=1e-5,\n",
    "                    max_iter=2000,\n",
    "                    random_state=1,\n",
    "                    learning_rate_init = 0.002)\n",
    "ann.fit(xtrain, y_train)\n",
    "y_predict = ann.predict(xtest)\n",
    "score = accuracy_score(y_test, y_predict)\n",
    "print(\"Accuracy score: %0.2f\" % score)\n",
    "ConfusionMatrix(y_test, y_predict)"
   ]
  },
  {
   "cell_type": "code",
   "execution_count": 52,
   "metadata": {},
   "outputs": [
    {
     "name": "stdout",
     "output_type": "stream",
     "text": [
      "             precision    recall  f1-score   support\n",
      "\n",
      "      Eight       0.88      0.77      0.82       513\n",
      "       Five       0.84      0.83      0.83       513\n",
      "       Four       0.87      0.86      0.87       513\n",
      "       Nine       0.88      0.87      0.87       513\n",
      "        One       0.90      0.93      0.92       513\n",
      "      Seven       0.86      0.93      0.90       513\n",
      "        Six       0.94      0.93      0.93       513\n",
      "      Three       0.82      0.85      0.83       513\n",
      "        Two       0.87      0.89      0.88       513\n",
      "       Zero       0.93      0.94      0.93       513\n",
      "\n",
      "avg / total       0.88      0.88      0.88      5130\n",
      "\n"
     ]
    }
   ],
   "source": [
    "report = classification_report(y_test,y_predict)\n",
    "print(report)"
   ]
  }
 ],
 "metadata": {
  "kernelspec": {
   "display_name": "Python 3",
   "language": "python",
   "name": "python3"
  },
  "language_info": {
   "codemirror_mode": {
    "name": "ipython",
    "version": 3
   },
   "file_extension": ".py",
   "mimetype": "text/x-python",
   "name": "python",
   "nbconvert_exporter": "python",
   "pygments_lexer": "ipython3",
   "version": "3.6.4"
  }
 },
 "nbformat": 4,
 "nbformat_minor": 2
}
